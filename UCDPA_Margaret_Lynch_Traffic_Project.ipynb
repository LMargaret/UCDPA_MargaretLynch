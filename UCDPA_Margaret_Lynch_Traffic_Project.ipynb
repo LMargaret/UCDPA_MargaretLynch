{
 "cells": [
  {
   "cell_type": "markdown",
   "id": "b69d9f81",
   "metadata": {},
   "source": [
    "# Margaret Lynch - Project"
   ]
  },
  {
   "cell_type": "code",
   "execution_count": 1,
   "id": "63762cb6",
   "metadata": {},
   "outputs": [],
   "source": [
    "import pandas as pd\n",
    "import numpy as np\n",
    "import matplotlib.pyplot as plt\n",
    "import seaborn as sns\n",
    "import requests\n",
    "import json"
   ]
  },
  {
   "cell_type": "markdown",
   "id": "6afa1c59",
   "metadata": {},
   "source": [
    "# Section 1(a) - Importing data (Per Vehicle Records)\n",
    "\n",
    "* Data is available from the Transport Infrastructure Ireland (\"TII\") website\n",
    "* Data scraped from the API as described on the website to import \n",
    "\n",
    "The format of the files are CSV and are accessible by specifying the date in yyyy/MM/dd format as follows:\n",
    "\n",
    "* https://data.tii.ie/Datasets/TrafficCountData/yyyy/MM/dd/per-vehicle-records-yyyy-MM-dd.csv\n",
    "* https://data.tii.ie/Datasets/TrafficCountData/yyyy/MM/dd/per-site-class-aggr-yyyy-MM-dd.csv\n",
    "* https://data.tii.ie/Datasets/TrafficCountData/yyyy/MM/dd/per-site-minutes-aggr-yyyy-MM-dd.csv\n",
    "\n",
    "Function created to generate the url and read the data"
   ]
  },
  {
   "cell_type": "code",
   "execution_count": 2,
   "id": "b265f3b2",
   "metadata": {},
   "outputs": [],
   "source": [
    "def get_url(year, month, day, file_type):\n",
    "    date_folder = str(year) +\"/\" + str(month).zfill(2) +\"/\" + str(day).zfill(2)\n",
    "    file_name = \"/\" + file_type + \"-\" + str(year) + \"-\" + str(month).zfill(2) + \"-\" + str(day).zfill(2) + \".csv\"\n",
    "    url = \"https://data.tii.ie/Datasets/TrafficCountData/\" + date_folder + file_name\n",
    "    \n",
    "    return url"
   ]
  },
  {
   "cell_type": "code",
   "execution_count": 3,
   "id": "a9ce6968",
   "metadata": {},
   "outputs": [],
   "source": [
    "def get_data_for_day(year, month, day, file_type):\n",
    "    data = pd.read_csv(get_url(year, month, day, file_type), low_memory = False)\n",
    "    \n",
    "    return data"
   ]
  },
  {
   "cell_type": "markdown",
   "id": "6b1a9402",
   "metadata": {},
   "source": [
    "#### Test the functions for each date and file type"
   ]
  },
  {
   "cell_type": "code",
   "execution_count": 4,
   "id": "0a767029",
   "metadata": {},
   "outputs": [
    {
     "name": "stdout",
     "output_type": "stream",
     "text": [
      "https://data.tii.ie/Datasets/TrafficCountData/2020/04/06/per-vehicle-records-2020-04-06.csv\n",
      "https://data.tii.ie/Datasets/TrafficCountData/2020/04/06/per-site-class-aggr-2020-04-06.csv\n",
      "https://data.tii.ie/Datasets/TrafficCountData/2020/04/06/per-site-minutes-aggr-2020-04-06.csv\n"
     ]
    }
   ],
   "source": [
    "file_types = [\"per-vehicle-records\", \"per-site-class-aggr\", \"per-site-minutes-aggr\"]\n",
    "\n",
    "for file_type in file_types:\n",
    "    print(get_url(2020, 4, 6, file_type))"
   ]
  },
  {
   "cell_type": "code",
   "execution_count": 5,
   "id": "496f2d6e",
   "metadata": {},
   "outputs": [
    {
     "name": "stdout",
     "output_type": "stream",
     "text": [
      "https://data.tii.ie/Datasets/TrafficCountData/2019/04/01/per-vehicle-records-2019-04-01.csv\n",
      "https://data.tii.ie/Datasets/TrafficCountData/2019/04/01/per-site-class-aggr-2019-04-01.csv\n",
      "https://data.tii.ie/Datasets/TrafficCountData/2019/04/01/per-site-minutes-aggr-2019-04-01.csv\n"
     ]
    }
   ],
   "source": [
    "for file_type in file_types:\n",
    "    print(get_url(2019, 4, 1, file_type))"
   ]
  },
  {
   "cell_type": "code",
   "execution_count": 6,
   "id": "e91859a6",
   "metadata": {},
   "outputs": [],
   "source": [
    "#now using the get_data_for_day function"
   ]
  },
  {
   "cell_type": "code",
   "execution_count": 7,
   "id": "f45b5fdd",
   "metadata": {},
   "outputs": [],
   "source": [
    "data_2020_psm = get_data_for_day(2020, 4, 6, \"per-site-minutes-aggr\")\n",
    "data_2019_psm = get_data_for_day(2019, 4, 1, \"per-site-minutes-aggr\")\n",
    "data_2020_psc = get_data_for_day(2020, 4, 6, \"per-site-class-aggr\")\n",
    "data_2019_psc = get_data_for_day(2019, 4, 1, \"per-site-class-aggr\")\n",
    "data_2020_pvr = get_data_for_day(2020, 4, 6, \"per-vehicle-records\")\n",
    "data_2019_pvr = get_data_for_day(2019, 4, 1, \"per-vehicle-records\")"
   ]
  },
  {
   "cell_type": "code",
   "execution_count": 8,
   "id": "7236d46a",
   "metadata": {},
   "outputs": [],
   "source": [
    "#  an alternative to using web scraping to import the data would be to download and save the .csv files locally and import using pd.read_csv(\"filepath\")\n",
    "#  the analysis below primarily uses the per-vehicle-records data but the aggregated data was loaded in case it may be useful"
   ]
  },
  {
   "cell_type": "markdown",
   "id": "8398b679",
   "metadata": {},
   "source": [
    "# Section 1(b) - Importing data (Traffic Counter Location)\n",
    "\n",
    "* TII also provide a JSON file with information on the location of their counter sites\n",
    "* This data is loaded here"
   ]
  },
  {
   "cell_type": "code",
   "execution_count": 9,
   "id": "6a0377b8",
   "metadata": {},
   "outputs": [],
   "source": [
    "# loading JSON location data from TII website\n",
    "json_filename = \"C:/Users/Margaret/Desktop/Datasets/tii_location.json\"\n",
    "\n",
    "with open(json_filename, \"r\") as json_file:\n",
    "    json_data = json.load(json_file)"
   ]
  },
  {
   "cell_type": "code",
   "execution_count": 10,
   "id": "0cf4aaa1",
   "metadata": {},
   "outputs": [
    {
     "data": {
      "text/plain": [
       "list"
      ]
     },
     "execution_count": 10,
     "metadata": {},
     "output_type": "execute_result"
    }
   ],
   "source": [
    "type(json_data)"
   ]
  },
  {
   "cell_type": "code",
   "execution_count": 11,
   "id": "f150247c",
   "metadata": {},
   "outputs": [
    {
     "data": {
      "text/plain": [
       "{'node': 'NRA',\n",
       " 'cosit': '000000000997',\n",
       " 'name': 'test',\n",
       " 'description': 'Test site for AFMS',\n",
       " 'location': {'lat': 53.3989, 'lng': -6.34177}}"
      ]
     },
     "execution_count": 11,
     "metadata": {},
     "output_type": "execute_result"
    }
   ],
   "source": [
    "# inspect the first element\n",
    "json_data[0]"
   ]
  },
  {
   "cell_type": "code",
   "execution_count": 12,
   "id": "fdb5ff47",
   "metadata": {},
   "outputs": [
    {
     "data": {
      "text/plain": [
       "446"
      ]
     },
     "execution_count": 12,
     "metadata": {},
     "output_type": "execute_result"
    }
   ],
   "source": [
    "len(json_data)"
   ]
  },
  {
   "cell_type": "code",
   "execution_count": 13,
   "id": "3ecb3716",
   "metadata": {},
   "outputs": [],
   "source": [
    "# converting the JSON data to a pandas DataFrame\n",
    "tii_location = pd.DataFrame(json_data)"
   ]
  },
  {
   "cell_type": "markdown",
   "id": "6b11d6dd",
   "metadata": {},
   "source": [
    "# Section 2 - Removing missing values from location DataFrame\n",
    "\n",
    "* Some of the location values (\"cosit\") are not in a consistent format and must be converted to numbers\n",
    "* This conversion results in missing values which are removed"
   ]
  },
  {
   "cell_type": "code",
   "execution_count": 14,
   "id": "fbe0990f",
   "metadata": {},
   "outputs": [
    {
     "data": {
      "text/html": [
       "<div>\n",
       "<style scoped>\n",
       "    .dataframe tbody tr th:only-of-type {\n",
       "        vertical-align: middle;\n",
       "    }\n",
       "\n",
       "    .dataframe tbody tr th {\n",
       "        vertical-align: top;\n",
       "    }\n",
       "\n",
       "    .dataframe thead th {\n",
       "        text-align: right;\n",
       "    }\n",
       "</style>\n",
       "<table border=\"1\" class=\"dataframe\">\n",
       "  <thead>\n",
       "    <tr style=\"text-align: right;\">\n",
       "      <th></th>\n",
       "      <th>node</th>\n",
       "      <th>cosit</th>\n",
       "      <th>name</th>\n",
       "      <th>description</th>\n",
       "      <th>location</th>\n",
       "    </tr>\n",
       "  </thead>\n",
       "  <tbody>\n",
       "    <tr>\n",
       "      <th>441</th>\n",
       "      <td>NRA</td>\n",
       "      <td>MAC000400719</td>\n",
       "      <td>Bluetooth 400719</td>\n",
       "      <td>M07 Between Jn25 Nenagh (Central) and Jn26 Nen...</td>\n",
       "      <td>{'lat': 52.84832, 'lng': -8.16953}</td>\n",
       "    </tr>\n",
       "    <tr>\n",
       "      <th>442</th>\n",
       "      <td>NRA</td>\n",
       "      <td>MAC000400720</td>\n",
       "      <td>Bluetooth 400720</td>\n",
       "      <td>M07 Between Jn26 Nenagh (West) and Jn27 Birdhi...</td>\n",
       "      <td>{'lat': 52.76195, 'lng': -8.39795}</td>\n",
       "    </tr>\n",
       "    <tr>\n",
       "      <th>443</th>\n",
       "      <td>NRA</td>\n",
       "      <td>MAC000400721</td>\n",
       "      <td>Bluetooth 400721</td>\n",
       "      <td>M07 Between Jn27 Birdhill and J28 Castletroy, ...</td>\n",
       "      <td>{'lat': 52.75285, 'lng': -8.41886}</td>\n",
       "    </tr>\n",
       "    <tr>\n",
       "      <th>444</th>\n",
       "      <td>NRA</td>\n",
       "      <td>MAC000400722</td>\n",
       "      <td>Bluetooth 400722</td>\n",
       "      <td>M07 Between Jn28 Castletroy and Jn29 M07/N24 B...</td>\n",
       "      <td>{'lat': 52.66726, 'lng': -8.51609}</td>\n",
       "    </tr>\n",
       "    <tr>\n",
       "      <th>445</th>\n",
       "      <td>NRA</td>\n",
       "      <td>MAC000400723</td>\n",
       "      <td>Bluetooth 400723</td>\n",
       "      <td>N07 Westbound Between Jn05 Athgoe and Jn06 Cas...</td>\n",
       "      <td>{'lat': 53.25975, 'lng': -6.5458}</td>\n",
       "    </tr>\n",
       "  </tbody>\n",
       "</table>\n",
       "</div>"
      ],
      "text/plain": [
       "    node         cosit              name  \\\n",
       "441  NRA  MAC000400719  Bluetooth 400719   \n",
       "442  NRA  MAC000400720  Bluetooth 400720   \n",
       "443  NRA  MAC000400721  Bluetooth 400721   \n",
       "444  NRA  MAC000400722  Bluetooth 400722   \n",
       "445  NRA  MAC000400723  Bluetooth 400723   \n",
       "\n",
       "                                           description  \\\n",
       "441  M07 Between Jn25 Nenagh (Central) and Jn26 Nen...   \n",
       "442  M07 Between Jn26 Nenagh (West) and Jn27 Birdhi...   \n",
       "443  M07 Between Jn27 Birdhill and J28 Castletroy, ...   \n",
       "444  M07 Between Jn28 Castletroy and Jn29 M07/N24 B...   \n",
       "445  N07 Westbound Between Jn05 Athgoe and Jn06 Cas...   \n",
       "\n",
       "                               location  \n",
       "441  {'lat': 52.84832, 'lng': -8.16953}  \n",
       "442  {'lat': 52.76195, 'lng': -8.39795}  \n",
       "443  {'lat': 52.75285, 'lng': -8.41886}  \n",
       "444  {'lat': 52.66726, 'lng': -8.51609}  \n",
       "445   {'lat': 53.25975, 'lng': -6.5458}  "
      ]
     },
     "execution_count": 14,
     "metadata": {},
     "output_type": "execute_result"
    }
   ],
   "source": [
    "tii_location.tail()"
   ]
  },
  {
   "cell_type": "markdown",
   "id": "93c0ec91",
   "metadata": {},
   "source": [
    "From the above some of \"cosit\" (site location) values are not numbers. In order to remove these unusable values, they will be converted to integers. This will also facilitate merging with another data set. "
   ]
  },
  {
   "cell_type": "code",
   "execution_count": 15,
   "id": "2964a8c0",
   "metadata": {},
   "outputs": [],
   "source": [
    "tii_location[\"cosit\"] = pd.to_numeric(tii_location[\"cosit\"], errors = \"coerce\")"
   ]
  },
  {
   "cell_type": "code",
   "execution_count": 16,
   "id": "0e28cab0",
   "metadata": {},
   "outputs": [],
   "source": [
    "tii_location = tii_location.dropna()"
   ]
  },
  {
   "cell_type": "code",
   "execution_count": 17,
   "id": "715887b1",
   "metadata": {},
   "outputs": [],
   "source": [
    "tii_location[\"cosit\"] = tii_location[\"cosit\"].astype(int)"
   ]
  },
  {
   "cell_type": "markdown",
   "id": "d0e77d4c",
   "metadata": {},
   "source": [
    "#### Reviewing tail to ensure inconsistent values no longer appear"
   ]
  },
  {
   "cell_type": "code",
   "execution_count": 18,
   "id": "ebad5b74",
   "metadata": {},
   "outputs": [
    {
     "data": {
      "text/html": [
       "<div>\n",
       "<style scoped>\n",
       "    .dataframe tbody tr th:only-of-type {\n",
       "        vertical-align: middle;\n",
       "    }\n",
       "\n",
       "    .dataframe tbody tr th {\n",
       "        vertical-align: top;\n",
       "    }\n",
       "\n",
       "    .dataframe thead th {\n",
       "        text-align: right;\n",
       "    }\n",
       "</style>\n",
       "<table border=\"1\" class=\"dataframe\">\n",
       "  <thead>\n",
       "    <tr style=\"text-align: right;\">\n",
       "      <th></th>\n",
       "      <th>node</th>\n",
       "      <th>cosit</th>\n",
       "      <th>name</th>\n",
       "      <th>description</th>\n",
       "      <th>location</th>\n",
       "    </tr>\n",
       "  </thead>\n",
       "  <tbody>\n",
       "    <tr>\n",
       "      <th>417</th>\n",
       "      <td>NRA</td>\n",
       "      <td>920042</td>\n",
       "      <td>20042 WIM Site reprocessed data</td>\n",
       "      <td>20042 WIM Site reprocessed data</td>\n",
       "      <td>{'lat': 0, 'lng': 0}</td>\n",
       "    </tr>\n",
       "    <tr>\n",
       "      <th>418</th>\n",
       "      <td>NRA</td>\n",
       "      <td>920073</td>\n",
       "      <td>20073 WIM Site reprocessed data</td>\n",
       "      <td>20073 WIM Site reprocessed data</td>\n",
       "      <td>{'lat': 0, 'lng': 0}</td>\n",
       "    </tr>\n",
       "    <tr>\n",
       "      <th>419</th>\n",
       "      <td>NRA</td>\n",
       "      <td>2007231</td>\n",
       "      <td>TMU N07 015.0 E</td>\n",
       "      <td>N07 Eastbound Between Jn05 Athgoe and Jn06 Cas...</td>\n",
       "      <td>{'lat': 53.26006, 'lng': -6.54598}</td>\n",
       "    </tr>\n",
       "    <tr>\n",
       "      <th>420</th>\n",
       "      <td>NRA</td>\n",
       "      <td>8888888</td>\n",
       "      <td>test</td>\n",
       "      <td>test</td>\n",
       "      <td>{'lat': 53, 'lng': -6}</td>\n",
       "    </tr>\n",
       "    <tr>\n",
       "      <th>421</th>\n",
       "      <td>NRA</td>\n",
       "      <td>9200723</td>\n",
       "      <td>200723 WIM Site reprocessed data</td>\n",
       "      <td>200723 WIM Site reprocessed data</td>\n",
       "      <td>{'lat': 53.25975, 'lng': -6.5458}</td>\n",
       "    </tr>\n",
       "  </tbody>\n",
       "</table>\n",
       "</div>"
      ],
      "text/plain": [
       "    node    cosit                              name  \\\n",
       "417  NRA   920042   20042 WIM Site reprocessed data   \n",
       "418  NRA   920073   20073 WIM Site reprocessed data   \n",
       "419  NRA  2007231                   TMU N07 015.0 E   \n",
       "420  NRA  8888888                              test   \n",
       "421  NRA  9200723  200723 WIM Site reprocessed data   \n",
       "\n",
       "                                           description  \\\n",
       "417                    20042 WIM Site reprocessed data   \n",
       "418                    20073 WIM Site reprocessed data   \n",
       "419  N07 Eastbound Between Jn05 Athgoe and Jn06 Cas...   \n",
       "420                                               test   \n",
       "421                   200723 WIM Site reprocessed data   \n",
       "\n",
       "                               location  \n",
       "417                {'lat': 0, 'lng': 0}  \n",
       "418                {'lat': 0, 'lng': 0}  \n",
       "419  {'lat': 53.26006, 'lng': -6.54598}  \n",
       "420              {'lat': 53, 'lng': -6}  \n",
       "421   {'lat': 53.25975, 'lng': -6.5458}  "
      ]
     },
     "execution_count": 18,
     "metadata": {},
     "output_type": "execute_result"
    }
   ],
   "source": [
    "tii_location.tail()"
   ]
  },
  {
   "cell_type": "code",
   "execution_count": 19,
   "id": "e24da581",
   "metadata": {},
   "outputs": [],
   "source": [
    "cosit_description = [\"cosit\", \"description\"]"
   ]
  },
  {
   "cell_type": "code",
   "execution_count": 20,
   "id": "59e24091",
   "metadata": {},
   "outputs": [],
   "source": [
    "tii_location_cosit_location = tii_location.loc[:, cosit_description]"
   ]
  },
  {
   "cell_type": "code",
   "execution_count": 21,
   "id": "40ad1607",
   "metadata": {},
   "outputs": [
    {
     "data": {
      "text/html": [
       "<div>\n",
       "<style scoped>\n",
       "    .dataframe tbody tr th:only-of-type {\n",
       "        vertical-align: middle;\n",
       "    }\n",
       "\n",
       "    .dataframe tbody tr th {\n",
       "        vertical-align: top;\n",
       "    }\n",
       "\n",
       "    .dataframe thead th {\n",
       "        text-align: right;\n",
       "    }\n",
       "</style>\n",
       "<table border=\"1\" class=\"dataframe\">\n",
       "  <thead>\n",
       "    <tr style=\"text-align: right;\">\n",
       "      <th></th>\n",
       "      <th>cosit</th>\n",
       "      <th>description</th>\n",
       "    </tr>\n",
       "  </thead>\n",
       "  <tbody>\n",
       "    <tr>\n",
       "      <th>0</th>\n",
       "      <td>997</td>\n",
       "      <td>Test site for AFMS</td>\n",
       "    </tr>\n",
       "    <tr>\n",
       "      <th>1</th>\n",
       "      <td>998</td>\n",
       "      <td>Test site 2</td>\n",
       "    </tr>\n",
       "    <tr>\n",
       "      <th>2</th>\n",
       "      <td>999</td>\n",
       "      <td>Test Site</td>\n",
       "    </tr>\n",
       "    <tr>\n",
       "      <th>3</th>\n",
       "      <td>1011</td>\n",
       "      <td>M01 Airport Link Road Between R132 Swords Road...</td>\n",
       "    </tr>\n",
       "    <tr>\n",
       "      <th>4</th>\n",
       "      <td>1012</td>\n",
       "      <td>M50 Between Jn02 Santry and Jn03 M50/M1</td>\n",
       "    </tr>\n",
       "  </tbody>\n",
       "</table>\n",
       "</div>"
      ],
      "text/plain": [
       "   cosit                                        description\n",
       "0    997                                 Test site for AFMS\n",
       "1    998                                        Test site 2\n",
       "2    999                                          Test Site\n",
       "3   1011  M01 Airport Link Road Between R132 Swords Road...\n",
       "4   1012            M50 Between Jn02 Santry and Jn03 M50/M1"
      ]
     },
     "execution_count": 21,
     "metadata": {},
     "output_type": "execute_result"
    }
   ],
   "source": [
    "tii_location_cosit_location.head()\n",
    "# This will be used in conjunction with the Per Vehicle Record data at a later stage"
   ]
  },
  {
   "cell_type": "markdown",
   "id": "a4bf50cb",
   "metadata": {},
   "source": [
    "# Section 3(a) - Class of vehicle analysis\n",
    "\n",
    "* Calculate proportion each class of vehicle represents"
   ]
  },
  {
   "cell_type": "code",
   "execution_count": 22,
   "id": "95439cad",
   "metadata": {},
   "outputs": [
    {
     "data": {
      "text/plain": [
       "CAR        1779724\n",
       "LGV         401650\n",
       "HGV_ART     291420\n",
       "HGV_RIG     115979\n",
       "BUS          22344\n",
       "CARAVAN      17374\n",
       "MBIKE        10169\n",
       "Name: classname, dtype: int64"
      ]
     },
     "execution_count": 22,
     "metadata": {},
     "output_type": "execute_result"
    }
   ],
   "source": [
    "class_count_2020 = data_2020_pvr[\"classname\"].value_counts()\n",
    "class_count_2020"
   ]
  },
  {
   "cell_type": "code",
   "execution_count": 23,
   "id": "bfb3ff70",
   "metadata": {},
   "outputs": [
    {
     "data": {
      "text/plain": [
       "CAR        0.674480\n",
       "LGV        0.152217\n",
       "HGV_ART    0.110442\n",
       "HGV_RIG    0.043954\n",
       "BUS        0.008468\n",
       "CARAVAN    0.006584\n",
       "MBIKE      0.003854\n",
       "Name: classname, dtype: float64"
      ]
     },
     "execution_count": 23,
     "metadata": {},
     "output_type": "execute_result"
    }
   ],
   "source": [
    "class_prop_2020 = class_count_2020/np.sum(class_count_2020)\n",
    "class_prop_2020"
   ]
  },
  {
   "cell_type": "code",
   "execution_count": 24,
   "id": "e81fb834",
   "metadata": {},
   "outputs": [
    {
     "data": {
      "text/plain": [
       "CAR        6163324\n",
       "LGV         884675\n",
       "HGV_ART     377849\n",
       "HGV_RIG     205690\n",
       "BUS          56827\n",
       "CARAVAN      40700\n",
       "MBIKE        26569\n",
       "Name: classname, dtype: int64"
      ]
     },
     "execution_count": 24,
     "metadata": {},
     "output_type": "execute_result"
    }
   ],
   "source": [
    "class_count_2019 = data_2019_pvr[\"classname\"].value_counts()\n",
    "class_count_2019"
   ]
  },
  {
   "cell_type": "code",
   "execution_count": 25,
   "id": "444e891d",
   "metadata": {},
   "outputs": [
    {
     "data": {
      "text/plain": [
       "CAR        0.794690\n",
       "LGV        0.114069\n",
       "HGV_ART    0.048719\n",
       "HGV_RIG    0.026521\n",
       "BUS        0.007327\n",
       "CARAVAN    0.005248\n",
       "MBIKE      0.003426\n",
       "Name: classname, dtype: float64"
      ]
     },
     "execution_count": 25,
     "metadata": {},
     "output_type": "execute_result"
    }
   ],
   "source": [
    "class_prop_2019 = class_count_2019/np.sum(class_count_2019)\n",
    "class_prop_2019"
   ]
  },
  {
   "cell_type": "code",
   "execution_count": 26,
   "id": "a9b134f5",
   "metadata": {},
   "outputs": [
    {
     "data": {
      "image/png": "[encoded data removed]",
      "text/plain": [
       "<Figure size 1080x360 with 2 Axes>"
      ]
     },
     "metadata": {
      "needs_background": "light"
     },
     "output_type": "display_data"
    }
   ],
   "source": [
    "fig, ax = plt.subplots(1, 2, figsize = (15,5))\n",
    "class_prop_2020.plot(kind = \"bar\", title = \"Vehicle class proportion 2020\", ax = ax[0])\n",
    "class_prop_2019.plot(kind = \"bar\", title = \"Vehicle class proportion 2019\", ax = ax[1])\n",
    "fig.savefig(\"C://Users/Margaret/Desktop/Datasets/TII/Vehicle class prop.png\")"
   ]
  },
  {
   "cell_type": "markdown",
   "id": "0ae8c05b",
   "metadata": {},
   "source": [
    "# Section 3(b) - Filtering and Sorting the Per Vehicle Record data \n",
    "\n",
    "* List columns of interest\n",
    "* Reduce DataFrame to these columns\n",
    "* Examine top 20 busiest sited for both days"
   ]
  },
  {
   "cell_type": "code",
   "execution_count": 27,
   "id": "f8f6b80e",
   "metadata": {},
   "outputs": [],
   "source": [
    "interesting_columns = [\"cosit\", \"minuteofday\", \"classname\", \"speed\"]\n",
    "# These are the columns from each year that I want to analyse"
   ]
  },
  {
   "cell_type": "code",
   "execution_count": 28,
   "id": "31bed0f8",
   "metadata": {},
   "outputs": [],
   "source": [
    "data_2020_pvr_filter = data_2020_pvr.loc[:, interesting_columns]\n",
    "data_2019_pvr_filter = data_2019_pvr.loc[:, interesting_columns]"
   ]
  },
  {
   "cell_type": "code",
   "execution_count": 29,
   "id": "f6f75ad5",
   "metadata": {},
   "outputs": [
    {
     "data": {
      "text/html": [
       "<div>\n",
       "<style scoped>\n",
       "    .dataframe tbody tr th:only-of-type {\n",
       "        vertical-align: middle;\n",
       "    }\n",
       "\n",
       "    .dataframe tbody tr th {\n",
       "        vertical-align: top;\n",
       "    }\n",
       "\n",
       "    .dataframe thead th {\n",
       "        text-align: right;\n",
       "    }\n",
       "</style>\n",
       "<table border=\"1\" class=\"dataframe\">\n",
       "  <thead>\n",
       "    <tr style=\"text-align: right;\">\n",
       "      <th></th>\n",
       "      <th>cosit</th>\n",
       "      <th>minuteofday</th>\n",
       "      <th>classname</th>\n",
       "      <th>speed</th>\n",
       "    </tr>\n",
       "  </thead>\n",
       "  <tbody>\n",
       "    <tr>\n",
       "      <th>0</th>\n",
       "      <td>997</td>\n",
       "      <td>180</td>\n",
       "      <td>LGV</td>\n",
       "      <td>70.0</td>\n",
       "    </tr>\n",
       "    <tr>\n",
       "      <th>1</th>\n",
       "      <td>997</td>\n",
       "      <td>180</td>\n",
       "      <td>CAR</td>\n",
       "      <td>66.0</td>\n",
       "    </tr>\n",
       "    <tr>\n",
       "      <th>2</th>\n",
       "      <td>997</td>\n",
       "      <td>180</td>\n",
       "      <td>LGV</td>\n",
       "      <td>71.0</td>\n",
       "    </tr>\n",
       "    <tr>\n",
       "      <th>3</th>\n",
       "      <td>997</td>\n",
       "      <td>180</td>\n",
       "      <td>HGV_RIG</td>\n",
       "      <td>70.0</td>\n",
       "    </tr>\n",
       "    <tr>\n",
       "      <th>4</th>\n",
       "      <td>997</td>\n",
       "      <td>180</td>\n",
       "      <td>LGV</td>\n",
       "      <td>69.0</td>\n",
       "    </tr>\n",
       "    <tr>\n",
       "      <th>...</th>\n",
       "      <td>...</td>\n",
       "      <td>...</td>\n",
       "      <td>...</td>\n",
       "      <td>...</td>\n",
       "    </tr>\n",
       "    <tr>\n",
       "      <th>2639201</th>\n",
       "      <td>208001</td>\n",
       "      <td>434</td>\n",
       "      <td>CAR</td>\n",
       "      <td>69.0</td>\n",
       "    </tr>\n",
       "    <tr>\n",
       "      <th>2639202</th>\n",
       "      <td>208001</td>\n",
       "      <td>434</td>\n",
       "      <td>CAR</td>\n",
       "      <td>64.0</td>\n",
       "    </tr>\n",
       "    <tr>\n",
       "      <th>2639203</th>\n",
       "      <td>208001</td>\n",
       "      <td>434</td>\n",
       "      <td>CAR</td>\n",
       "      <td>63.0</td>\n",
       "    </tr>\n",
       "    <tr>\n",
       "      <th>2639204</th>\n",
       "      <td>208001</td>\n",
       "      <td>434</td>\n",
       "      <td>LGV</td>\n",
       "      <td>77.0</td>\n",
       "    </tr>\n",
       "    <tr>\n",
       "      <th>2639205</th>\n",
       "      <td>208001</td>\n",
       "      <td>434</td>\n",
       "      <td>CAR</td>\n",
       "      <td>77.0</td>\n",
       "    </tr>\n",
       "  </tbody>\n",
       "</table>\n",
       "<p>2639206 rows × 4 columns</p>\n",
       "</div>"
      ],
      "text/plain": [
       "          cosit  minuteofday classname  speed\n",
       "0           997          180       LGV   70.0\n",
       "1           997          180       CAR   66.0\n",
       "2           997          180       LGV   71.0\n",
       "3           997          180   HGV_RIG   70.0\n",
       "4           997          180       LGV   69.0\n",
       "...         ...          ...       ...    ...\n",
       "2639201  208001          434       CAR   69.0\n",
       "2639202  208001          434       CAR   64.0\n",
       "2639203  208001          434       CAR   63.0\n",
       "2639204  208001          434       LGV   77.0\n",
       "2639205  208001          434       CAR   77.0\n",
       "\n",
       "[2639206 rows x 4 columns]"
      ]
     },
     "execution_count": 29,
     "metadata": {},
     "output_type": "execute_result"
    }
   ],
   "source": [
    "data_2020_pvr_filter"
   ]
  },
  {
   "cell_type": "code",
   "execution_count": 30,
   "id": "6d021c78",
   "metadata": {},
   "outputs": [],
   "source": [
    "#  To display the top 20 busiest sites for 2020, I have created a top_sites DataFrame. \n",
    "#  The rows of this have been counted using .size()\n",
    "#  \"count\" has been included as a column heading for the result\n",
    "#  The \"count\" column is then sorted in descending order\n",
    "#  The top 20 sites and shown using .head(20)\n",
    "top_sites_2020 = pd.DataFrame(data_2020_pvr_filter.groupby([\"cosit\"]).size())\n",
    "top_sites_2020.columns = [\"count\"]\n",
    "top_sites_2020 = top_sites_2020.sort_values(\"count\", ascending = False)\n",
    "top_20_sites_2020 = top_sites_2020.head(20)"
   ]
  },
  {
   "cell_type": "code",
   "execution_count": 31,
   "id": "5c4ae769",
   "metadata": {},
   "outputs": [],
   "source": [
    "#  the same process as outlined above for 2020 was applied to the 2019 data\n",
    "top_sites_2019 = pd.DataFrame(data_2019_pvr_filter.groupby([\"cosit\"]).size())\n",
    "top_sites_2019.columns = [\"count\"]\n",
    "top_sites_2019 = top_sites_2019.sort_values(\"count\", ascending = False)\n",
    "top_20_sites_2019 = top_sites_2019.head(20)"
   ]
  },
  {
   "cell_type": "code",
   "execution_count": 32,
   "id": "d9426350",
   "metadata": {},
   "outputs": [
    {
     "data": {
      "text/html": [
       "<div>\n",
       "<style scoped>\n",
       "    .dataframe tbody tr th:only-of-type {\n",
       "        vertical-align: middle;\n",
       "    }\n",
       "\n",
       "    .dataframe tbody tr th {\n",
       "        vertical-align: top;\n",
       "    }\n",
       "\n",
       "    .dataframe thead th {\n",
       "        text-align: right;\n",
       "    }\n",
       "</style>\n",
       "<table border=\"1\" class=\"dataframe\">\n",
       "  <thead>\n",
       "    <tr style=\"text-align: right;\">\n",
       "      <th></th>\n",
       "      <th>count</th>\n",
       "    </tr>\n",
       "    <tr>\n",
       "      <th>cosit</th>\n",
       "      <th></th>\n",
       "    </tr>\n",
       "  </thead>\n",
       "  <tbody>\n",
       "    <tr>\n",
       "      <th>1502</th>\n",
       "      <td>52110</td>\n",
       "    </tr>\n",
       "    <tr>\n",
       "      <th>997</th>\n",
       "      <td>51786</td>\n",
       "    </tr>\n",
       "    <tr>\n",
       "      <th>1503</th>\n",
       "      <td>51462</td>\n",
       "    </tr>\n",
       "    <tr>\n",
       "      <th>1508</th>\n",
       "      <td>49278</td>\n",
       "    </tr>\n",
       "    <tr>\n",
       "      <th>1501</th>\n",
       "      <td>48017</td>\n",
       "    </tr>\n",
       "    <tr>\n",
       "      <th>1509</th>\n",
       "      <td>42573</td>\n",
       "    </tr>\n",
       "    <tr>\n",
       "      <th>1014</th>\n",
       "      <td>41897</td>\n",
       "    </tr>\n",
       "    <tr>\n",
       "      <th>1070</th>\n",
       "      <td>40698</td>\n",
       "    </tr>\n",
       "    <tr>\n",
       "      <th>1071</th>\n",
       "      <td>40461</td>\n",
       "    </tr>\n",
       "    <tr>\n",
       "      <th>1072</th>\n",
       "      <td>38327</td>\n",
       "    </tr>\n",
       "    <tr>\n",
       "      <th>20011</th>\n",
       "      <td>38021</td>\n",
       "    </tr>\n",
       "    <tr>\n",
       "      <th>1500</th>\n",
       "      <td>37699</td>\n",
       "    </tr>\n",
       "    <tr>\n",
       "      <th>1504</th>\n",
       "      <td>37657</td>\n",
       "    </tr>\n",
       "    <tr>\n",
       "      <th>1073</th>\n",
       "      <td>37575</td>\n",
       "    </tr>\n",
       "    <tr>\n",
       "      <th>20047</th>\n",
       "      <td>37507</td>\n",
       "    </tr>\n",
       "    <tr>\n",
       "      <th>1505</th>\n",
       "      <td>34579</td>\n",
       "    </tr>\n",
       "    <tr>\n",
       "      <th>1012</th>\n",
       "      <td>31809</td>\n",
       "    </tr>\n",
       "    <tr>\n",
       "      <th>200723</th>\n",
       "      <td>31533</td>\n",
       "    </tr>\n",
       "    <tr>\n",
       "      <th>1506</th>\n",
       "      <td>31436</td>\n",
       "    </tr>\n",
       "    <tr>\n",
       "      <th>20071</th>\n",
       "      <td>30656</td>\n",
       "    </tr>\n",
       "  </tbody>\n",
       "</table>\n",
       "</div>"
      ],
      "text/plain": [
       "        count\n",
       "cosit        \n",
       "1502    52110\n",
       "997     51786\n",
       "1503    51462\n",
       "1508    49278\n",
       "1501    48017\n",
       "1509    42573\n",
       "1014    41897\n",
       "1070    40698\n",
       "1071    40461\n",
       "1072    38327\n",
       "20011   38021\n",
       "1500    37699\n",
       "1504    37657\n",
       "1073    37575\n",
       "20047   37507\n",
       "1505    34579\n",
       "1012    31809\n",
       "200723  31533\n",
       "1506    31436\n",
       "20071   30656"
      ]
     },
     "execution_count": 32,
     "metadata": {},
     "output_type": "execute_result"
    }
   ],
   "source": [
    "top_20_sites_2020"
   ]
  },
  {
   "cell_type": "code",
   "execution_count": 33,
   "id": "df5846d7",
   "metadata": {},
   "outputs": [
    {
     "data": {
      "text/html": [
       "<div>\n",
       "<style scoped>\n",
       "    .dataframe tbody tr th:only-of-type {\n",
       "        vertical-align: middle;\n",
       "    }\n",
       "\n",
       "    .dataframe tbody tr th {\n",
       "        vertical-align: top;\n",
       "    }\n",
       "\n",
       "    .dataframe thead th {\n",
       "        text-align: right;\n",
       "    }\n",
       "</style>\n",
       "<table border=\"1\" class=\"dataframe\">\n",
       "  <thead>\n",
       "    <tr style=\"text-align: right;\">\n",
       "      <th></th>\n",
       "      <th>count</th>\n",
       "    </tr>\n",
       "    <tr>\n",
       "      <th>cosit</th>\n",
       "      <th></th>\n",
       "    </tr>\n",
       "  </thead>\n",
       "  <tbody>\n",
       "    <tr>\n",
       "      <th>1503</th>\n",
       "      <td>154836</td>\n",
       "    </tr>\n",
       "    <tr>\n",
       "      <th>1508</th>\n",
       "      <td>153995</td>\n",
       "    </tr>\n",
       "    <tr>\n",
       "      <th>1502</th>\n",
       "      <td>152896</td>\n",
       "    </tr>\n",
       "    <tr>\n",
       "      <th>1501</th>\n",
       "      <td>144959</td>\n",
       "    </tr>\n",
       "    <tr>\n",
       "      <th>1014</th>\n",
       "      <td>142512</td>\n",
       "    </tr>\n",
       "    <tr>\n",
       "      <th>1509</th>\n",
       "      <td>139798</td>\n",
       "    </tr>\n",
       "    <tr>\n",
       "      <th>1500</th>\n",
       "      <td>130922</td>\n",
       "    </tr>\n",
       "    <tr>\n",
       "      <th>1504</th>\n",
       "      <td>127220</td>\n",
       "    </tr>\n",
       "    <tr>\n",
       "      <th>1505</th>\n",
       "      <td>121069</td>\n",
       "    </tr>\n",
       "    <tr>\n",
       "      <th>1506</th>\n",
       "      <td>116409</td>\n",
       "    </tr>\n",
       "    <tr>\n",
       "      <th>1071</th>\n",
       "      <td>112406</td>\n",
       "    </tr>\n",
       "    <tr>\n",
       "      <th>20047</th>\n",
       "      <td>108561</td>\n",
       "    </tr>\n",
       "    <tr>\n",
       "      <th>20011</th>\n",
       "      <td>107855</td>\n",
       "    </tr>\n",
       "    <tr>\n",
       "      <th>1072</th>\n",
       "      <td>107542</td>\n",
       "    </tr>\n",
       "    <tr>\n",
       "      <th>1073</th>\n",
       "      <td>106271</td>\n",
       "    </tr>\n",
       "    <tr>\n",
       "      <th>1253</th>\n",
       "      <td>92991</td>\n",
       "    </tr>\n",
       "    <tr>\n",
       "      <th>1012</th>\n",
       "      <td>92412</td>\n",
       "    </tr>\n",
       "    <tr>\n",
       "      <th>200723</th>\n",
       "      <td>90227</td>\n",
       "    </tr>\n",
       "    <tr>\n",
       "      <th>1044</th>\n",
       "      <td>87492</td>\n",
       "    </tr>\n",
       "    <tr>\n",
       "      <th>20071</th>\n",
       "      <td>83146</td>\n",
       "    </tr>\n",
       "  </tbody>\n",
       "</table>\n",
       "</div>"
      ],
      "text/plain": [
       "         count\n",
       "cosit         \n",
       "1503    154836\n",
       "1508    153995\n",
       "1502    152896\n",
       "1501    144959\n",
       "1014    142512\n",
       "1509    139798\n",
       "1500    130922\n",
       "1504    127220\n",
       "1505    121069\n",
       "1506    116409\n",
       "1071    112406\n",
       "20047   108561\n",
       "20011   107855\n",
       "1072    107542\n",
       "1073    106271\n",
       "1253     92991\n",
       "1012     92412\n",
       "200723   90227\n",
       "1044     87492\n",
       "20071    83146"
      ]
     },
     "execution_count": 33,
     "metadata": {},
     "output_type": "execute_result"
    }
   ],
   "source": [
    "top_20_sites_2019"
   ]
  },
  {
   "cell_type": "markdown",
   "id": "37a59c35",
   "metadata": {},
   "source": [
    "# Section 4(a) - Busiest sites common to 2020 and 2019\n",
    "\n",
    "* Merge top 20 sites for each day to see common sites\n"
   ]
  },
  {
   "cell_type": "code",
   "execution_count": 34,
   "id": "de7fe6a4",
   "metadata": {},
   "outputs": [],
   "source": [
    "#  The top 20 sites for each day have been merged to show the sites that are common to both years\n",
    "common_sites_2020_2019 = top_20_sites_2020.merge(top_20_sites_2019, on =\"cosit\", suffixes=[\"_2020\", \"_2019\"])"
   ]
  },
  {
   "cell_type": "code",
   "execution_count": 35,
   "id": "fe60cf0e",
   "metadata": {},
   "outputs": [
    {
     "data": {
      "text/html": [
       "<div>\n",
       "<style scoped>\n",
       "    .dataframe tbody tr th:only-of-type {\n",
       "        vertical-align: middle;\n",
       "    }\n",
       "\n",
       "    .dataframe tbody tr th {\n",
       "        vertical-align: top;\n",
       "    }\n",
       "\n",
       "    .dataframe thead th {\n",
       "        text-align: right;\n",
       "    }\n",
       "</style>\n",
       "<table border=\"1\" class=\"dataframe\">\n",
       "  <thead>\n",
       "    <tr style=\"text-align: right;\">\n",
       "      <th></th>\n",
       "      <th>count_2020</th>\n",
       "      <th>count_2019</th>\n",
       "    </tr>\n",
       "    <tr>\n",
       "      <th>cosit</th>\n",
       "      <th></th>\n",
       "      <th></th>\n",
       "    </tr>\n",
       "  </thead>\n",
       "  <tbody>\n",
       "    <tr>\n",
       "      <th>1502</th>\n",
       "      <td>52110</td>\n",
       "      <td>152896</td>\n",
       "    </tr>\n",
       "    <tr>\n",
       "      <th>1503</th>\n",
       "      <td>51462</td>\n",
       "      <td>154836</td>\n",
       "    </tr>\n",
       "    <tr>\n",
       "      <th>1508</th>\n",
       "      <td>49278</td>\n",
       "      <td>153995</td>\n",
       "    </tr>\n",
       "    <tr>\n",
       "      <th>1501</th>\n",
       "      <td>48017</td>\n",
       "      <td>144959</td>\n",
       "    </tr>\n",
       "    <tr>\n",
       "      <th>1509</th>\n",
       "      <td>42573</td>\n",
       "      <td>139798</td>\n",
       "    </tr>\n",
       "    <tr>\n",
       "      <th>1014</th>\n",
       "      <td>41897</td>\n",
       "      <td>142512</td>\n",
       "    </tr>\n",
       "    <tr>\n",
       "      <th>1071</th>\n",
       "      <td>40461</td>\n",
       "      <td>112406</td>\n",
       "    </tr>\n",
       "    <tr>\n",
       "      <th>1072</th>\n",
       "      <td>38327</td>\n",
       "      <td>107542</td>\n",
       "    </tr>\n",
       "    <tr>\n",
       "      <th>20011</th>\n",
       "      <td>38021</td>\n",
       "      <td>107855</td>\n",
       "    </tr>\n",
       "    <tr>\n",
       "      <th>1500</th>\n",
       "      <td>37699</td>\n",
       "      <td>130922</td>\n",
       "    </tr>\n",
       "    <tr>\n",
       "      <th>1504</th>\n",
       "      <td>37657</td>\n",
       "      <td>127220</td>\n",
       "    </tr>\n",
       "    <tr>\n",
       "      <th>1073</th>\n",
       "      <td>37575</td>\n",
       "      <td>106271</td>\n",
       "    </tr>\n",
       "    <tr>\n",
       "      <th>20047</th>\n",
       "      <td>37507</td>\n",
       "      <td>108561</td>\n",
       "    </tr>\n",
       "    <tr>\n",
       "      <th>1505</th>\n",
       "      <td>34579</td>\n",
       "      <td>121069</td>\n",
       "    </tr>\n",
       "    <tr>\n",
       "      <th>1012</th>\n",
       "      <td>31809</td>\n",
       "      <td>92412</td>\n",
       "    </tr>\n",
       "    <tr>\n",
       "      <th>200723</th>\n",
       "      <td>31533</td>\n",
       "      <td>90227</td>\n",
       "    </tr>\n",
       "    <tr>\n",
       "      <th>1506</th>\n",
       "      <td>31436</td>\n",
       "      <td>116409</td>\n",
       "    </tr>\n",
       "    <tr>\n",
       "      <th>20071</th>\n",
       "      <td>30656</td>\n",
       "      <td>83146</td>\n",
       "    </tr>\n",
       "  </tbody>\n",
       "</table>\n",
       "</div>"
      ],
      "text/plain": [
       "        count_2020  count_2019\n",
       "cosit                         \n",
       "1502         52110      152896\n",
       "1503         51462      154836\n",
       "1508         49278      153995\n",
       "1501         48017      144959\n",
       "1509         42573      139798\n",
       "1014         41897      142512\n",
       "1071         40461      112406\n",
       "1072         38327      107542\n",
       "20011        38021      107855\n",
       "1500         37699      130922\n",
       "1504         37657      127220\n",
       "1073         37575      106271\n",
       "20047        37507      108561\n",
       "1505         34579      121069\n",
       "1012         31809       92412\n",
       "200723       31533       90227\n",
       "1506         31436      116409\n",
       "20071        30656       83146"
      ]
     },
     "execution_count": 35,
     "metadata": {},
     "output_type": "execute_result"
    }
   ],
   "source": [
    "common_sites_2020_2019"
   ]
  },
  {
   "cell_type": "code",
   "execution_count": 36,
   "id": "85687666",
   "metadata": {},
   "outputs": [
    {
     "data": {
      "text/plain": [
       "(18, 2)"
      ]
     },
     "execution_count": 36,
     "metadata": {},
     "output_type": "execute_result"
    }
   ],
   "source": [
    "common_sites_2020_2019.shape\n",
    "# There are 18 of the top 20 busies sites common to 2020 and 2019"
   ]
  },
  {
   "cell_type": "markdown",
   "id": "0f0bfbdf",
   "metadata": {},
   "source": [
    "# Section 4 (b) - Statistical analysis of 2020 v 2019 using NumPy\n",
    "\n",
    "* Merge filtered DataFrames to get count data across all common sites\n",
    "* Analyse the change in counts between years e.g. biggest change, smallest change, average change"
   ]
  },
  {
   "cell_type": "code",
   "execution_count": 37,
   "id": "167eee5f",
   "metadata": {},
   "outputs": [
    {
     "data": {
      "text/html": [
       "<div>\n",
       "<style scoped>\n",
       "    .dataframe tbody tr th:only-of-type {\n",
       "        vertical-align: middle;\n",
       "    }\n",
       "\n",
       "    .dataframe tbody tr th {\n",
       "        vertical-align: top;\n",
       "    }\n",
       "\n",
       "    .dataframe thead th {\n",
       "        text-align: right;\n",
       "    }\n",
       "</style>\n",
       "<table border=\"1\" class=\"dataframe\">\n",
       "  <thead>\n",
       "    <tr style=\"text-align: right;\">\n",
       "      <th></th>\n",
       "      <th>count</th>\n",
       "    </tr>\n",
       "    <tr>\n",
       "      <th>cosit</th>\n",
       "      <th></th>\n",
       "    </tr>\n",
       "  </thead>\n",
       "  <tbody>\n",
       "    <tr>\n",
       "      <th>1502</th>\n",
       "      <td>52110</td>\n",
       "    </tr>\n",
       "    <tr>\n",
       "      <th>997</th>\n",
       "      <td>51786</td>\n",
       "    </tr>\n",
       "    <tr>\n",
       "      <th>1503</th>\n",
       "      <td>51462</td>\n",
       "    </tr>\n",
       "    <tr>\n",
       "      <th>1508</th>\n",
       "      <td>49278</td>\n",
       "    </tr>\n",
       "    <tr>\n",
       "      <th>1501</th>\n",
       "      <td>48017</td>\n",
       "    </tr>\n",
       "  </tbody>\n",
       "</table>\n",
       "</div>"
      ],
      "text/plain": [
       "       count\n",
       "cosit       \n",
       "1502   52110\n",
       "997    51786\n",
       "1503   51462\n",
       "1508   49278\n",
       "1501   48017"
      ]
     },
     "execution_count": 37,
     "metadata": {},
     "output_type": "execute_result"
    }
   ],
   "source": [
    "top_sites_2020.head()"
   ]
  },
  {
   "cell_type": "code",
   "execution_count": 38,
   "id": "d3edafa6",
   "metadata": {},
   "outputs": [
    {
     "data": {
      "text/html": [
       "<div>\n",
       "<style scoped>\n",
       "    .dataframe tbody tr th:only-of-type {\n",
       "        vertical-align: middle;\n",
       "    }\n",
       "\n",
       "    .dataframe tbody tr th {\n",
       "        vertical-align: top;\n",
       "    }\n",
       "\n",
       "    .dataframe thead th {\n",
       "        text-align: right;\n",
       "    }\n",
       "</style>\n",
       "<table border=\"1\" class=\"dataframe\">\n",
       "  <thead>\n",
       "    <tr style=\"text-align: right;\">\n",
       "      <th></th>\n",
       "      <th>count_2020</th>\n",
       "      <th>count_2019</th>\n",
       "    </tr>\n",
       "    <tr>\n",
       "      <th>cosit</th>\n",
       "      <th></th>\n",
       "      <th></th>\n",
       "    </tr>\n",
       "  </thead>\n",
       "  <tbody>\n",
       "    <tr>\n",
       "      <th>1502</th>\n",
       "      <td>52110</td>\n",
       "      <td>152896</td>\n",
       "    </tr>\n",
       "    <tr>\n",
       "      <th>1503</th>\n",
       "      <td>51462</td>\n",
       "      <td>154836</td>\n",
       "    </tr>\n",
       "    <tr>\n",
       "      <th>1508</th>\n",
       "      <td>49278</td>\n",
       "      <td>153995</td>\n",
       "    </tr>\n",
       "    <tr>\n",
       "      <th>1501</th>\n",
       "      <td>48017</td>\n",
       "      <td>144959</td>\n",
       "    </tr>\n",
       "    <tr>\n",
       "      <th>1509</th>\n",
       "      <td>42573</td>\n",
       "      <td>139798</td>\n",
       "    </tr>\n",
       "  </tbody>\n",
       "</table>\n",
       "</div>"
      ],
      "text/plain": [
       "       count_2020  count_2019\n",
       "cosit                        \n",
       "1502        52110      152896\n",
       "1503        51462      154836\n",
       "1508        49278      153995\n",
       "1501        48017      144959\n",
       "1509        42573      139798"
      ]
     },
     "execution_count": 38,
     "metadata": {},
     "output_type": "execute_result"
    }
   ],
   "source": [
    "total_common_sites = top_sites_2020.merge(top_sites_2019, on = \"cosit\", suffixes = [\"_2020\", \"_2019\"])\n",
    "total_common_sites.head()"
   ]
  },
  {
   "cell_type": "code",
   "execution_count": 39,
   "id": "f608896a",
   "metadata": {},
   "outputs": [
    {
     "data": {
      "text/html": [
       "<div>\n",
       "<style scoped>\n",
       "    .dataframe tbody tr th:only-of-type {\n",
       "        vertical-align: middle;\n",
       "    }\n",
       "\n",
       "    .dataframe tbody tr th {\n",
       "        vertical-align: top;\n",
       "    }\n",
       "\n",
       "    .dataframe thead th {\n",
       "        text-align: right;\n",
       "    }\n",
       "</style>\n",
       "<table border=\"1\" class=\"dataframe\">\n",
       "  <thead>\n",
       "    <tr style=\"text-align: right;\">\n",
       "      <th></th>\n",
       "      <th>cosit</th>\n",
       "      <th>count_2020</th>\n",
       "      <th>count_2019</th>\n",
       "      <th>description</th>\n",
       "    </tr>\n",
       "  </thead>\n",
       "  <tbody>\n",
       "    <tr>\n",
       "      <th>0</th>\n",
       "      <td>1502</td>\n",
       "      <td>52110</td>\n",
       "      <td>152896</td>\n",
       "      <td>M50 Between Jn06 N03/M50 and Jn05 N02/M50, Fin...</td>\n",
       "    </tr>\n",
       "    <tr>\n",
       "      <th>1</th>\n",
       "      <td>1503</td>\n",
       "      <td>51462</td>\n",
       "      <td>154836</td>\n",
       "      <td>M50 Between Jn07 N04/M50 and Jn09 N07/M50 Red ...</td>\n",
       "    </tr>\n",
       "    <tr>\n",
       "      <th>2</th>\n",
       "      <td>1508</td>\n",
       "      <td>49278</td>\n",
       "      <td>153995</td>\n",
       "      <td>M50 Between Jn06 N03/M50 and Jn07 N04/M50, Cas...</td>\n",
       "    </tr>\n",
       "    <tr>\n",
       "      <th>3</th>\n",
       "      <td>1501</td>\n",
       "      <td>48017</td>\n",
       "      <td>144959</td>\n",
       "      <td>M50 Between Jn05 N02/M50 and Jn04 Ballymun, Fi...</td>\n",
       "    </tr>\n",
       "    <tr>\n",
       "      <th>4</th>\n",
       "      <td>1509</td>\n",
       "      <td>42573</td>\n",
       "      <td>139798</td>\n",
       "      <td>M50 Between Jn09 N07/M50 Red Cow and Jn10 Ball...</td>\n",
       "    </tr>\n",
       "  </tbody>\n",
       "</table>\n",
       "</div>"
      ],
      "text/plain": [
       "   cosit  count_2020  count_2019  \\\n",
       "0   1502       52110      152896   \n",
       "1   1503       51462      154836   \n",
       "2   1508       49278      153995   \n",
       "3   1501       48017      144959   \n",
       "4   1509       42573      139798   \n",
       "\n",
       "                                         description  \n",
       "0  M50 Between Jn06 N03/M50 and Jn05 N02/M50, Fin...  \n",
       "1  M50 Between Jn07 N04/M50 and Jn09 N07/M50 Red ...  \n",
       "2  M50 Between Jn06 N03/M50 and Jn07 N04/M50, Cas...  \n",
       "3  M50 Between Jn05 N02/M50 and Jn04 Ballymun, Fi...  \n",
       "4  M50 Between Jn09 N07/M50 Red Cow and Jn10 Ball...  "
      ]
     },
     "execution_count": 39,
     "metadata": {},
     "output_type": "execute_result"
    }
   ],
   "source": [
    "total_common_sites_location = total_common_sites.merge(tii_location_cosit_location, on=\"cosit\")\n",
    "total_common_sites_location.head()"
   ]
  },
  {
   "cell_type": "code",
   "execution_count": 40,
   "id": "515b27d7",
   "metadata": {},
   "outputs": [
    {
     "data": {
      "text/html": [
       "<div>\n",
       "<style scoped>\n",
       "    .dataframe tbody tr th:only-of-type {\n",
       "        vertical-align: middle;\n",
       "    }\n",
       "\n",
       "    .dataframe tbody tr th {\n",
       "        vertical-align: top;\n",
       "    }\n",
       "\n",
       "    .dataframe thead th {\n",
       "        text-align: right;\n",
       "    }\n",
       "</style>\n",
       "<table border=\"1\" class=\"dataframe\">\n",
       "  <thead>\n",
       "    <tr style=\"text-align: right;\">\n",
       "      <th></th>\n",
       "      <th>cosit</th>\n",
       "      <th>count_2020</th>\n",
       "      <th>count_2019</th>\n",
       "      <th>description</th>\n",
       "      <th>2020_vs_2019_%reduction</th>\n",
       "    </tr>\n",
       "  </thead>\n",
       "  <tbody>\n",
       "    <tr>\n",
       "      <th>0</th>\n",
       "      <td>1502</td>\n",
       "      <td>52110</td>\n",
       "      <td>152896</td>\n",
       "      <td>M50 Between Jn06 N03/M50 and Jn05 N02/M50, Fin...</td>\n",
       "      <td>65.918010</td>\n",
       "    </tr>\n",
       "    <tr>\n",
       "      <th>1</th>\n",
       "      <td>1503</td>\n",
       "      <td>51462</td>\n",
       "      <td>154836</td>\n",
       "      <td>M50 Between Jn07 N04/M50 and Jn09 N07/M50 Red ...</td>\n",
       "      <td>66.763543</td>\n",
       "    </tr>\n",
       "    <tr>\n",
       "      <th>2</th>\n",
       "      <td>1508</td>\n",
       "      <td>49278</td>\n",
       "      <td>153995</td>\n",
       "      <td>M50 Between Jn06 N03/M50 and Jn07 N04/M50, Cas...</td>\n",
       "      <td>68.000260</td>\n",
       "    </tr>\n",
       "    <tr>\n",
       "      <th>3</th>\n",
       "      <td>1501</td>\n",
       "      <td>48017</td>\n",
       "      <td>144959</td>\n",
       "      <td>M50 Between Jn05 N02/M50 and Jn04 Ballymun, Fi...</td>\n",
       "      <td>66.875461</td>\n",
       "    </tr>\n",
       "    <tr>\n",
       "      <th>4</th>\n",
       "      <td>1509</td>\n",
       "      <td>42573</td>\n",
       "      <td>139798</td>\n",
       "      <td>M50 Between Jn09 N07/M50 Red Cow and Jn10 Ball...</td>\n",
       "      <td>69.546775</td>\n",
       "    </tr>\n",
       "  </tbody>\n",
       "</table>\n",
       "</div>"
      ],
      "text/plain": [
       "   cosit  count_2020  count_2019  \\\n",
       "0   1502       52110      152896   \n",
       "1   1503       51462      154836   \n",
       "2   1508       49278      153995   \n",
       "3   1501       48017      144959   \n",
       "4   1509       42573      139798   \n",
       "\n",
       "                                         description  2020_vs_2019_%reduction  \n",
       "0  M50 Between Jn06 N03/M50 and Jn05 N02/M50, Fin...                65.918010  \n",
       "1  M50 Between Jn07 N04/M50 and Jn09 N07/M50 Red ...                66.763543  \n",
       "2  M50 Between Jn06 N03/M50 and Jn07 N04/M50, Cas...                68.000260  \n",
       "3  M50 Between Jn05 N02/M50 and Jn04 Ballymun, Fi...                66.875461  \n",
       "4  M50 Between Jn09 N07/M50 Red Cow and Jn10 Ball...                69.546775  "
      ]
     },
     "execution_count": 40,
     "metadata": {},
     "output_type": "execute_result"
    }
   ],
   "source": [
    "total_common_sites_location[\"2020_vs_2019_%reduction\"] = 100-(total_common_sites_location[\"count_2020\"] / total_common_sites_location[\"count_2019\"]*100)\n",
    "total_common_sites_location.head()"
   ]
  },
  {
   "cell_type": "markdown",
   "id": "39a78ef1",
   "metadata": {},
   "source": [
    "#### Compute some statistics on the % reduction in traffic between 2020 and 2019"
   ]
  },
  {
   "cell_type": "code",
   "execution_count": 41,
   "id": "46d929fb",
   "metadata": {},
   "outputs": [
    {
     "name": "stdout",
     "output_type": "stream",
     "text": [
      "the minimum % reduction is 14.473684210526315\n",
      "the maximum % reduction is 85.57405036278276\n",
      "the mean % reduction is 64.0159308508064\n",
      "the median % reduction is 64.8654037886341\n",
      "the standard deviation % reduction is 7.459568787953465\n"
     ]
    }
   ],
   "source": [
    "print(\"the minimum % reduction is \" + str(np.min(total_common_sites_location[\"2020_vs_2019_%reduction\"])))\n",
    "print(\"the maximum % reduction is \" + str(np.max(total_common_sites_location[\"2020_vs_2019_%reduction\"])))\n",
    "print(\"the mean % reduction is \" + str(np.mean(total_common_sites_location[\"2020_vs_2019_%reduction\"])))\n",
    "print(\"the median % reduction is \" + str(np.median(total_common_sites_location[\"2020_vs_2019_%reduction\"])))\n",
    "print(\"the standard deviation % reduction is \" + str(np.std(total_common_sites_location[\"2020_vs_2019_%reduction\"])))"
   ]
  },
  {
   "cell_type": "code",
   "execution_count": 42,
   "id": "8fcb3fdb",
   "metadata": {},
   "outputs": [
    {
     "data": {
      "text/html": [
       "<div>\n",
       "<style scoped>\n",
       "    .dataframe tbody tr th:only-of-type {\n",
       "        vertical-align: middle;\n",
       "    }\n",
       "\n",
       "    .dataframe tbody tr th {\n",
       "        vertical-align: top;\n",
       "    }\n",
       "\n",
       "    .dataframe thead th {\n",
       "        text-align: right;\n",
       "    }\n",
       "</style>\n",
       "<table border=\"1\" class=\"dataframe\">\n",
       "  <thead>\n",
       "    <tr style=\"text-align: right;\">\n",
       "      <th></th>\n",
       "      <th>cosit</th>\n",
       "      <th>count_2020</th>\n",
       "      <th>count_2019</th>\n",
       "      <th>description</th>\n",
       "      <th>2020_vs_2019_%reduction</th>\n",
       "    </tr>\n",
       "  </thead>\n",
       "  <tbody>\n",
       "    <tr>\n",
       "      <th>195</th>\n",
       "      <td>1291</td>\n",
       "      <td>3315</td>\n",
       "      <td>3876</td>\n",
       "      <td>N29 Between Slieverue and Belview Port</td>\n",
       "      <td>14.473684</td>\n",
       "    </tr>\n",
       "  </tbody>\n",
       "</table>\n",
       "</div>"
      ],
      "text/plain": [
       "     cosit  count_2020  count_2019                             description  \\\n",
       "195   1291        3315        3876  N29 Between Slieverue and Belview Port   \n",
       "\n",
       "     2020_vs_2019_%reduction  \n",
       "195                14.473684  "
      ]
     },
     "execution_count": 42,
     "metadata": {},
     "output_type": "execute_result"
    }
   ],
   "source": [
    "minimum_reduction = np.min(total_common_sites_location[\"2020_vs_2019_%reduction\"])\n",
    "total_common_sites_location.loc[total_common_sites_location[\"2020_vs_2019_%reduction\"]==minimum_reduction]"
   ]
  },
  {
   "cell_type": "code",
   "execution_count": 43,
   "id": "d3149193",
   "metadata": {},
   "outputs": [
    {
     "data": {
      "text/html": [
       "<div>\n",
       "<style scoped>\n",
       "    .dataframe tbody tr th:only-of-type {\n",
       "        vertical-align: middle;\n",
       "    }\n",
       "\n",
       "    .dataframe tbody tr th {\n",
       "        vertical-align: top;\n",
       "    }\n",
       "\n",
       "    .dataframe thead th {\n",
       "        text-align: right;\n",
       "    }\n",
       "</style>\n",
       "<table border=\"1\" class=\"dataframe\">\n",
       "  <thead>\n",
       "    <tr style=\"text-align: right;\">\n",
       "      <th></th>\n",
       "      <th>cosit</th>\n",
       "      <th>count_2020</th>\n",
       "      <th>count_2019</th>\n",
       "      <th>description</th>\n",
       "      <th>2020_vs_2019_%reduction</th>\n",
       "    </tr>\n",
       "  </thead>\n",
       "  <tbody>\n",
       "    <tr>\n",
       "      <th>310</th>\n",
       "      <td>1512</td>\n",
       "      <td>676</td>\n",
       "      <td>4686</td>\n",
       "      <td>N51 Slane to M1 /junction 10</td>\n",
       "      <td>85.57405</td>\n",
       "    </tr>\n",
       "  </tbody>\n",
       "</table>\n",
       "</div>"
      ],
      "text/plain": [
       "     cosit  count_2020  count_2019                   description  \\\n",
       "310   1512         676        4686  N51 Slane to M1 /junction 10   \n",
       "\n",
       "     2020_vs_2019_%reduction  \n",
       "310                 85.57405  "
      ]
     },
     "execution_count": 43,
     "metadata": {},
     "output_type": "execute_result"
    }
   ],
   "source": [
    "maximum_reduction = np.max(total_common_sites_location[\"2020_vs_2019_%reduction\"])\n",
    "total_common_sites_location.loc[total_common_sites_location[\"2020_vs_2019_%reduction\"]==maximum_reduction]"
   ]
  },
  {
   "cell_type": "markdown",
   "id": "5a234c3f",
   "metadata": {},
   "source": [
    "# Section 5 - Location of busiest common sites\n",
    "\n",
    "* Extract the cosit and site description from the location dataset\n",
    "* Merge with common sites DataFrame to see locations for these sites"
   ]
  },
  {
   "cell_type": "code",
   "execution_count": 44,
   "id": "9ebfd4c8",
   "metadata": {},
   "outputs": [],
   "source": [
    "common_sites_2020_2019_location = common_sites_2020_2019.merge(tii_location_cosit_location, on=\"cosit\")"
   ]
  },
  {
   "cell_type": "code",
   "execution_count": 45,
   "id": "8b8025db",
   "metadata": {
    "scrolled": false
   },
   "outputs": [
    {
     "data": {
      "text/html": [
       "<div>\n",
       "<style scoped>\n",
       "    .dataframe tbody tr th:only-of-type {\n",
       "        vertical-align: middle;\n",
       "    }\n",
       "\n",
       "    .dataframe tbody tr th {\n",
       "        vertical-align: top;\n",
       "    }\n",
       "\n",
       "    .dataframe thead th {\n",
       "        text-align: right;\n",
       "    }\n",
       "</style>\n",
       "<table border=\"1\" class=\"dataframe\">\n",
       "  <thead>\n",
       "    <tr style=\"text-align: right;\">\n",
       "      <th></th>\n",
       "      <th>cosit</th>\n",
       "      <th>count_2020</th>\n",
       "      <th>count_2019</th>\n",
       "      <th>description</th>\n",
       "    </tr>\n",
       "  </thead>\n",
       "  <tbody>\n",
       "    <tr>\n",
       "      <th>0</th>\n",
       "      <td>1502</td>\n",
       "      <td>52110</td>\n",
       "      <td>152896</td>\n",
       "      <td>M50 Between Jn06 N03/M50 and Jn05 N02/M50, Finglas, Co. Dublin</td>\n",
       "    </tr>\n",
       "    <tr>\n",
       "      <th>1</th>\n",
       "      <td>1503</td>\n",
       "      <td>51462</td>\n",
       "      <td>154836</td>\n",
       "      <td>M50 Between Jn07 N04/M50 and Jn09 N07/M50 Red Cow, Palmerstown, Co. Dublin</td>\n",
       "    </tr>\n",
       "    <tr>\n",
       "      <th>2</th>\n",
       "      <td>1508</td>\n",
       "      <td>49278</td>\n",
       "      <td>153995</td>\n",
       "      <td>M50 Between Jn06 N03/M50 and Jn07 N04/M50, Castleknock, Co. Dublin</td>\n",
       "    </tr>\n",
       "    <tr>\n",
       "      <th>3</th>\n",
       "      <td>1501</td>\n",
       "      <td>48017</td>\n",
       "      <td>144959</td>\n",
       "      <td>M50 Between Jn05 N02/M50 and Jn04 Ballymun, Finglas, Co. Dublin</td>\n",
       "    </tr>\n",
       "    <tr>\n",
       "      <th>4</th>\n",
       "      <td>1509</td>\n",
       "      <td>42573</td>\n",
       "      <td>139798</td>\n",
       "      <td>M50 Between Jn09 N07/M50 Red Cow and Jn10 Ballymount, Ballymount, Co. Dublin</td>\n",
       "    </tr>\n",
       "    <tr>\n",
       "      <th>5</th>\n",
       "      <td>1014</td>\n",
       "      <td>41897</td>\n",
       "      <td>142512</td>\n",
       "      <td>M01 Between Jn01 M50/M01 and Jn02 Dublin Airport</td>\n",
       "    </tr>\n",
       "    <tr>\n",
       "      <th>6</th>\n",
       "      <td>1071</td>\n",
       "      <td>40461</td>\n",
       "      <td>112406</td>\n",
       "      <td>N07 Between Jn02 Kingswood and Jn03 Citywest, Kingswood, Co. Dublin</td>\n",
       "    </tr>\n",
       "    <tr>\n",
       "      <th>7</th>\n",
       "      <td>1072</td>\n",
       "      <td>38327</td>\n",
       "      <td>107542</td>\n",
       "      <td>N07 Between Jn01a Newlands Cross and Jn02 Kingswood, Co. Dublin</td>\n",
       "    </tr>\n",
       "    <tr>\n",
       "      <th>8</th>\n",
       "      <td>20011</td>\n",
       "      <td>38021</td>\n",
       "      <td>107855</td>\n",
       "      <td>M01 Between Jn02 Dublin Airport and Jn03 Swords, Swords, Co. Dublin</td>\n",
       "    </tr>\n",
       "    <tr>\n",
       "      <th>9</th>\n",
       "      <td>1500</td>\n",
       "      <td>37699</td>\n",
       "      <td>130922</td>\n",
       "      <td>M50 Between Jn3 M50/M01 and Jn04 Ballymun, Ballymun, Co. Dublin</td>\n",
       "    </tr>\n",
       "    <tr>\n",
       "      <th>10</th>\n",
       "      <td>1504</td>\n",
       "      <td>37657</td>\n",
       "      <td>127220</td>\n",
       "      <td>M50 Between Jn10 - Ballymount and Jn11 - Tymon, Co. Dublin</td>\n",
       "    </tr>\n",
       "    <tr>\n",
       "      <th>11</th>\n",
       "      <td>1073</td>\n",
       "      <td>37575</td>\n",
       "      <td>106271</td>\n",
       "      <td>N7 Eastbound citywest at VMS</td>\n",
       "    </tr>\n",
       "    <tr>\n",
       "      <th>12</th>\n",
       "      <td>20047</td>\n",
       "      <td>37507</td>\n",
       "      <td>108561</td>\n",
       "      <td>N04 Between Jn01 N4/M50 and Jn02 Liffey Valley, Liffey Valley, Co. Dublin</td>\n",
       "    </tr>\n",
       "    <tr>\n",
       "      <th>13</th>\n",
       "      <td>1505</td>\n",
       "      <td>34579</td>\n",
       "      <td>121069</td>\n",
       "      <td>M50 Between Jn11 Tallaght and Jn12 Firhouse, Co. Dublin</td>\n",
       "    </tr>\n",
       "    <tr>\n",
       "      <th>14</th>\n",
       "      <td>1012</td>\n",
       "      <td>31809</td>\n",
       "      <td>92412</td>\n",
       "      <td>M50 Between Jn02 Santry and Jn03 M50/M1</td>\n",
       "    </tr>\n",
       "    <tr>\n",
       "      <th>15</th>\n",
       "      <td>200723</td>\n",
       "      <td>31533</td>\n",
       "      <td>90227</td>\n",
       "      <td>N07 Westbound Between Jn05 Athgoe and Jn06 Castlewarden, Kilteel, Co. Kildare</td>\n",
       "    </tr>\n",
       "    <tr>\n",
       "      <th>16</th>\n",
       "      <td>1506</td>\n",
       "      <td>31436</td>\n",
       "      <td>116409</td>\n",
       "      <td>M50 Between Jn12 Firhouse and Jn13 Dundrum, Balinteer, Co. Dublin</td>\n",
       "    </tr>\n",
       "    <tr>\n",
       "      <th>17</th>\n",
       "      <td>20071</td>\n",
       "      <td>30656</td>\n",
       "      <td>83146</td>\n",
       "      <td>N07 Between Jn07 Kill and Jn08 Johnstown, Kill, Co. Kildare</td>\n",
       "    </tr>\n",
       "  </tbody>\n",
       "</table>\n",
       "</div>"
      ],
      "text/plain": [
       "     cosit  count_2020  count_2019  \\\n",
       "0     1502       52110      152896   \n",
       "1     1503       51462      154836   \n",
       "2     1508       49278      153995   \n",
       "3     1501       48017      144959   \n",
       "4     1509       42573      139798   \n",
       "5     1014       41897      142512   \n",
       "6     1071       40461      112406   \n",
       "7     1072       38327      107542   \n",
       "8    20011       38021      107855   \n",
       "9     1500       37699      130922   \n",
       "10    1504       37657      127220   \n",
       "11    1073       37575      106271   \n",
       "12   20047       37507      108561   \n",
       "13    1505       34579      121069   \n",
       "14    1012       31809       92412   \n",
       "15  200723       31533       90227   \n",
       "16    1506       31436      116409   \n",
       "17   20071       30656       83146   \n",
       "\n",
       "                                                                       description  \n",
       "0                   M50 Between Jn06 N03/M50 and Jn05 N02/M50, Finglas, Co. Dublin  \n",
       "1       M50 Between Jn07 N04/M50 and Jn09 N07/M50 Red Cow, Palmerstown, Co. Dublin  \n",
       "2               M50 Between Jn06 N03/M50 and Jn07 N04/M50, Castleknock, Co. Dublin  \n",
       "3                  M50 Between Jn05 N02/M50 and Jn04 Ballymun, Finglas, Co. Dublin  \n",
       "4     M50 Between Jn09 N07/M50 Red Cow and Jn10 Ballymount, Ballymount, Co. Dublin  \n",
       "5                                 M01 Between Jn01 M50/M01 and Jn02 Dublin Airport  \n",
       "6              N07 Between Jn02 Kingswood and Jn03 Citywest, Kingswood, Co. Dublin  \n",
       "7                  N07 Between Jn01a Newlands Cross and Jn02 Kingswood, Co. Dublin  \n",
       "8              M01 Between Jn02 Dublin Airport and Jn03 Swords, Swords, Co. Dublin  \n",
       "9                  M50 Between Jn3 M50/M01 and Jn04 Ballymun, Ballymun, Co. Dublin  \n",
       "10                      M50 Between Jn10 - Ballymount and Jn11 - Tymon, Co. Dublin  \n",
       "11                                                    N7 Eastbound citywest at VMS  \n",
       "12       N04 Between Jn01 N4/M50 and Jn02 Liffey Valley, Liffey Valley, Co. Dublin  \n",
       "13                         M50 Between Jn11 Tallaght and Jn12 Firhouse, Co. Dublin  \n",
       "14                                         M50 Between Jn02 Santry and Jn03 M50/M1  \n",
       "15  N07 Westbound Between Jn05 Athgoe and Jn06 Castlewarden, Kilteel, Co. Kildare   \n",
       "16               M50 Between Jn12 Firhouse and Jn13 Dundrum, Balinteer, Co. Dublin  \n",
       "17                     N07 Between Jn07 Kill and Jn08 Johnstown, Kill, Co. Kildare  "
      ]
     },
     "execution_count": 45,
     "metadata": {},
     "output_type": "execute_result"
    }
   ],
   "source": [
    "pd.set_option(\"max_colwidth\", 80)\n",
    "common_sites_2020_2019_location"
   ]
  },
  {
   "cell_type": "code",
   "execution_count": 46,
   "id": "969d2b45",
   "metadata": {},
   "outputs": [],
   "source": [
    "# The majority of the top 20 busiest sites are in the Dublin region"
   ]
  },
  {
   "cell_type": "markdown",
   "id": "53a79c61",
   "metadata": {},
   "source": [
    "# Section 6 - Compare traffic levels 2020 v 2019\n",
    "\n",
    "* Add column to show % reduction in traffic in 2020 compared to 2019\n",
    "* Plot traffic level at busiest common sites in 2020 and 2019"
   ]
  },
  {
   "cell_type": "code",
   "execution_count": 47,
   "id": "f10194cc",
   "metadata": {},
   "outputs": [],
   "source": [
    "common_sites_2020_2019[\"2020_vs_2019_%reduction\"] = 100-(common_sites_2020_2019[\"count_2020\"] / common_sites_2020_2019[\"count_2019\"]*100)"
   ]
  },
  {
   "cell_type": "code",
   "execution_count": 48,
   "id": "f9e5a063",
   "metadata": {},
   "outputs": [
    {
     "data": {
      "text/html": [
       "<div>\n",
       "<style scoped>\n",
       "    .dataframe tbody tr th:only-of-type {\n",
       "        vertical-align: middle;\n",
       "    }\n",
       "\n",
       "    .dataframe tbody tr th {\n",
       "        vertical-align: top;\n",
       "    }\n",
       "\n",
       "    .dataframe thead th {\n",
       "        text-align: right;\n",
       "    }\n",
       "</style>\n",
       "<table border=\"1\" class=\"dataframe\">\n",
       "  <thead>\n",
       "    <tr style=\"text-align: right;\">\n",
       "      <th></th>\n",
       "      <th>count_2020</th>\n",
       "      <th>count_2019</th>\n",
       "      <th>2020_vs_2019_%reduction</th>\n",
       "    </tr>\n",
       "    <tr>\n",
       "      <th>cosit</th>\n",
       "      <th></th>\n",
       "      <th></th>\n",
       "      <th></th>\n",
       "    </tr>\n",
       "  </thead>\n",
       "  <tbody>\n",
       "    <tr>\n",
       "      <th>1502</th>\n",
       "      <td>52110</td>\n",
       "      <td>152896</td>\n",
       "      <td>65.918010</td>\n",
       "    </tr>\n",
       "    <tr>\n",
       "      <th>1503</th>\n",
       "      <td>51462</td>\n",
       "      <td>154836</td>\n",
       "      <td>66.763543</td>\n",
       "    </tr>\n",
       "    <tr>\n",
       "      <th>1508</th>\n",
       "      <td>49278</td>\n",
       "      <td>153995</td>\n",
       "      <td>68.000260</td>\n",
       "    </tr>\n",
       "    <tr>\n",
       "      <th>1501</th>\n",
       "      <td>48017</td>\n",
       "      <td>144959</td>\n",
       "      <td>66.875461</td>\n",
       "    </tr>\n",
       "    <tr>\n",
       "      <th>1509</th>\n",
       "      <td>42573</td>\n",
       "      <td>139798</td>\n",
       "      <td>69.546775</td>\n",
       "    </tr>\n",
       "    <tr>\n",
       "      <th>1014</th>\n",
       "      <td>41897</td>\n",
       "      <td>142512</td>\n",
       "      <td>70.601072</td>\n",
       "    </tr>\n",
       "    <tr>\n",
       "      <th>1071</th>\n",
       "      <td>40461</td>\n",
       "      <td>112406</td>\n",
       "      <td>64.004591</td>\n",
       "    </tr>\n",
       "    <tr>\n",
       "      <th>1072</th>\n",
       "      <td>38327</td>\n",
       "      <td>107542</td>\n",
       "      <td>64.360901</td>\n",
       "    </tr>\n",
       "    <tr>\n",
       "      <th>20011</th>\n",
       "      <td>38021</td>\n",
       "      <td>107855</td>\n",
       "      <td>64.748041</td>\n",
       "    </tr>\n",
       "    <tr>\n",
       "      <th>1500</th>\n",
       "      <td>37699</td>\n",
       "      <td>130922</td>\n",
       "      <td>71.204992</td>\n",
       "    </tr>\n",
       "    <tr>\n",
       "      <th>1504</th>\n",
       "      <td>37657</td>\n",
       "      <td>127220</td>\n",
       "      <td>70.400094</td>\n",
       "    </tr>\n",
       "    <tr>\n",
       "      <th>1073</th>\n",
       "      <td>37575</td>\n",
       "      <td>106271</td>\n",
       "      <td>64.642282</td>\n",
       "    </tr>\n",
       "    <tr>\n",
       "      <th>20047</th>\n",
       "      <td>37507</td>\n",
       "      <td>108561</td>\n",
       "      <td>65.450760</td>\n",
       "    </tr>\n",
       "    <tr>\n",
       "      <th>1505</th>\n",
       "      <td>34579</td>\n",
       "      <td>121069</td>\n",
       "      <td>71.438601</td>\n",
       "    </tr>\n",
       "    <tr>\n",
       "      <th>1012</th>\n",
       "      <td>31809</td>\n",
       "      <td>92412</td>\n",
       "      <td>65.579146</td>\n",
       "    </tr>\n",
       "    <tr>\n",
       "      <th>200723</th>\n",
       "      <td>31533</td>\n",
       "      <td>90227</td>\n",
       "      <td>65.051481</td>\n",
       "    </tr>\n",
       "    <tr>\n",
       "      <th>1506</th>\n",
       "      <td>31436</td>\n",
       "      <td>116409</td>\n",
       "      <td>72.995215</td>\n",
       "    </tr>\n",
       "    <tr>\n",
       "      <th>20071</th>\n",
       "      <td>30656</td>\n",
       "      <td>83146</td>\n",
       "      <td>63.129916</td>\n",
       "    </tr>\n",
       "  </tbody>\n",
       "</table>\n",
       "</div>"
      ],
      "text/plain": [
       "        count_2020  count_2019  2020_vs_2019_%reduction\n",
       "cosit                                                  \n",
       "1502         52110      152896                65.918010\n",
       "1503         51462      154836                66.763543\n",
       "1508         49278      153995                68.000260\n",
       "1501         48017      144959                66.875461\n",
       "1509         42573      139798                69.546775\n",
       "1014         41897      142512                70.601072\n",
       "1071         40461      112406                64.004591\n",
       "1072         38327      107542                64.360901\n",
       "20011        38021      107855                64.748041\n",
       "1500         37699      130922                71.204992\n",
       "1504         37657      127220                70.400094\n",
       "1073         37575      106271                64.642282\n",
       "20047        37507      108561                65.450760\n",
       "1505         34579      121069                71.438601\n",
       "1012         31809       92412                65.579146\n",
       "200723       31533       90227                65.051481\n",
       "1506         31436      116409                72.995215\n",
       "20071        30656       83146                63.129916"
      ]
     },
     "execution_count": 48,
     "metadata": {},
     "output_type": "execute_result"
    }
   ],
   "source": [
    "common_sites_2020_2019"
   ]
  },
  {
   "cell_type": "code",
   "execution_count": 49,
   "id": "44fda647",
   "metadata": {},
   "outputs": [
    {
     "data": {
      "image/png": "[encoded data removed]",
      "text/plain": [
       "<Figure size 1080x360 with 1 Axes>"
      ]
     },
     "metadata": {
      "needs_background": "light"
     },
     "output_type": "display_data"
    }
   ],
   "source": [
    "ax = common_sites_2020_2019[[\"count_2019\", \"count_2020\"]].plot(kind=\"bar\", figsize = (15,5), title = \"Traffic count comparison at top common sites (2020 v 2019)\")\n",
    "ax.set_xlabel(\"Traffic counter location\")\n",
    "ax.set_ylabel(\"Vehicle countt per day\")\n",
    "plt.gcf().savefig(\"C://Users/Margaret/Desktop/Datasets/TII/Traffic_comparison.png\")"
   ]
  },
  {
   "cell_type": "markdown",
   "id": "e44f4925",
   "metadata": {},
   "source": [
    "# Section 7 - Distribution of speed \n",
    "\n",
    "* Filter to get data for cars only for each day\n",
    "* Plot distribution of speed side by side"
   ]
  },
  {
   "cell_type": "code",
   "execution_count": 50,
   "id": "51ea8db4",
   "metadata": {},
   "outputs": [
    {
     "data": {
      "text/html": [
       "<div>\n",
       "<style scoped>\n",
       "    .dataframe tbody tr th:only-of-type {\n",
       "        vertical-align: middle;\n",
       "    }\n",
       "\n",
       "    .dataframe tbody tr th {\n",
       "        vertical-align: top;\n",
       "    }\n",
       "\n",
       "    .dataframe thead th {\n",
       "        text-align: right;\n",
       "    }\n",
       "</style>\n",
       "<table border=\"1\" class=\"dataframe\">\n",
       "  <thead>\n",
       "    <tr style=\"text-align: right;\">\n",
       "      <th></th>\n",
       "      <th>cosit</th>\n",
       "      <th>minuteofday</th>\n",
       "      <th>classname</th>\n",
       "      <th>speed</th>\n",
       "    </tr>\n",
       "  </thead>\n",
       "  <tbody>\n",
       "    <tr>\n",
       "      <th>0</th>\n",
       "      <td>997</td>\n",
       "      <td>180</td>\n",
       "      <td>LGV</td>\n",
       "      <td>70.0</td>\n",
       "    </tr>\n",
       "    <tr>\n",
       "      <th>1</th>\n",
       "      <td>997</td>\n",
       "      <td>180</td>\n",
       "      <td>CAR</td>\n",
       "      <td>66.0</td>\n",
       "    </tr>\n",
       "    <tr>\n",
       "      <th>2</th>\n",
       "      <td>997</td>\n",
       "      <td>180</td>\n",
       "      <td>LGV</td>\n",
       "      <td>71.0</td>\n",
       "    </tr>\n",
       "    <tr>\n",
       "      <th>3</th>\n",
       "      <td>997</td>\n",
       "      <td>180</td>\n",
       "      <td>HGV_RIG</td>\n",
       "      <td>70.0</td>\n",
       "    </tr>\n",
       "    <tr>\n",
       "      <th>4</th>\n",
       "      <td>997</td>\n",
       "      <td>180</td>\n",
       "      <td>LGV</td>\n",
       "      <td>69.0</td>\n",
       "    </tr>\n",
       "  </tbody>\n",
       "</table>\n",
       "</div>"
      ],
      "text/plain": [
       "   cosit  minuteofday classname  speed\n",
       "0    997          180       LGV   70.0\n",
       "1    997          180       CAR   66.0\n",
       "2    997          180       LGV   71.0\n",
       "3    997          180   HGV_RIG   70.0\n",
       "4    997          180       LGV   69.0"
      ]
     },
     "execution_count": 50,
     "metadata": {},
     "output_type": "execute_result"
    }
   ],
   "source": [
    "data_2020_pvr_filter.head()"
   ]
  },
  {
   "cell_type": "code",
   "execution_count": 51,
   "id": "ffd8c910",
   "metadata": {},
   "outputs": [
    {
     "data": {
      "text/plain": [
       "CAR        1779724\n",
       "LGV         401650\n",
       "HGV_ART     291420\n",
       "HGV_RIG     115979\n",
       "BUS          22344\n",
       "CARAVAN      17374\n",
       "MBIKE        10169\n",
       "Name: classname, dtype: int64"
      ]
     },
     "execution_count": 51,
     "metadata": {},
     "output_type": "execute_result"
    }
   ],
   "source": [
    "data_2020_pvr_filter[\"classname\"].value_counts()"
   ]
  },
  {
   "cell_type": "code",
   "execution_count": 52,
   "id": "970e9792",
   "metadata": {},
   "outputs": [],
   "source": [
    "car_data_2020 = data_2020_pvr_filter.loc[data_2020_pvr_filter[\"classname\"]==\"CAR\",[\"classname\", \"speed\"]]\n",
    "car_data_2019 = data_2019_pvr_filter.loc[data_2019_pvr_filter[\"classname\"]==\"CAR\",[\"classname\", \"speed\"]]"
   ]
  },
  {
   "cell_type": "code",
   "execution_count": 53,
   "id": "b96df4a6",
   "metadata": {},
   "outputs": [
    {
     "data": {
      "text/html": [
       "<div>\n",
       "<style scoped>\n",
       "    .dataframe tbody tr th:only-of-type {\n",
       "        vertical-align: middle;\n",
       "    }\n",
       "\n",
       "    .dataframe tbody tr th {\n",
       "        vertical-align: top;\n",
       "    }\n",
       "\n",
       "    .dataframe thead th {\n",
       "        text-align: right;\n",
       "    }\n",
       "</style>\n",
       "<table border=\"1\" class=\"dataframe\">\n",
       "  <thead>\n",
       "    <tr style=\"text-align: right;\">\n",
       "      <th></th>\n",
       "      <th>classname</th>\n",
       "      <th>speed</th>\n",
       "    </tr>\n",
       "  </thead>\n",
       "  <tbody>\n",
       "    <tr>\n",
       "      <th>1</th>\n",
       "      <td>CAR</td>\n",
       "      <td>66.0</td>\n",
       "    </tr>\n",
       "    <tr>\n",
       "      <th>68</th>\n",
       "      <td>CAR</td>\n",
       "      <td>61.0</td>\n",
       "    </tr>\n",
       "    <tr>\n",
       "      <th>110</th>\n",
       "      <td>CAR</td>\n",
       "      <td>63.0</td>\n",
       "    </tr>\n",
       "    <tr>\n",
       "      <th>116</th>\n",
       "      <td>CAR</td>\n",
       "      <td>60.0</td>\n",
       "    </tr>\n",
       "    <tr>\n",
       "      <th>171</th>\n",
       "      <td>CAR</td>\n",
       "      <td>68.0</td>\n",
       "    </tr>\n",
       "  </tbody>\n",
       "</table>\n",
       "</div>"
      ],
      "text/plain": [
       "    classname  speed\n",
       "1         CAR   66.0\n",
       "68        CAR   61.0\n",
       "110       CAR   63.0\n",
       "116       CAR   60.0\n",
       "171       CAR   68.0"
      ]
     },
     "execution_count": 53,
     "metadata": {},
     "output_type": "execute_result"
    }
   ],
   "source": [
    "car_data_2020.head()"
   ]
  },
  {
   "cell_type": "code",
   "execution_count": 54,
   "id": "5e4102e5",
   "metadata": {},
   "outputs": [
    {
     "data": {
      "text/html": [
       "<div>\n",
       "<style scoped>\n",
       "    .dataframe tbody tr th:only-of-type {\n",
       "        vertical-align: middle;\n",
       "    }\n",
       "\n",
       "    .dataframe tbody tr th {\n",
       "        vertical-align: top;\n",
       "    }\n",
       "\n",
       "    .dataframe thead th {\n",
       "        text-align: right;\n",
       "    }\n",
       "</style>\n",
       "<table border=\"1\" class=\"dataframe\">\n",
       "  <thead>\n",
       "    <tr style=\"text-align: right;\">\n",
       "      <th></th>\n",
       "      <th>classname</th>\n",
       "      <th>speed</th>\n",
       "    </tr>\n",
       "  </thead>\n",
       "  <tbody>\n",
       "    <tr>\n",
       "      <th>0</th>\n",
       "      <td>CAR</td>\n",
       "      <td>66.0</td>\n",
       "    </tr>\n",
       "    <tr>\n",
       "      <th>1</th>\n",
       "      <td>CAR</td>\n",
       "      <td>62.0</td>\n",
       "    </tr>\n",
       "    <tr>\n",
       "      <th>2</th>\n",
       "      <td>CAR</td>\n",
       "      <td>62.0</td>\n",
       "    </tr>\n",
       "    <tr>\n",
       "      <th>3</th>\n",
       "      <td>CAR</td>\n",
       "      <td>69.0</td>\n",
       "    </tr>\n",
       "    <tr>\n",
       "      <th>4</th>\n",
       "      <td>CAR</td>\n",
       "      <td>59.0</td>\n",
       "    </tr>\n",
       "  </tbody>\n",
       "</table>\n",
       "</div>"
      ],
      "text/plain": [
       "  classname  speed\n",
       "0       CAR   66.0\n",
       "1       CAR   62.0\n",
       "2       CAR   62.0\n",
       "3       CAR   69.0\n",
       "4       CAR   59.0"
      ]
     },
     "execution_count": 54,
     "metadata": {},
     "output_type": "execute_result"
    }
   ],
   "source": [
    "car_data_2019.head()"
   ]
  },
  {
   "cell_type": "code",
   "execution_count": 55,
   "id": "f747a528",
   "metadata": {},
   "outputs": [
    {
     "data": {
      "image/png": "[encoded data removed]",
      "text/plain": [
       "<Figure size 1080x360 with 2 Axes>"
      ]
     },
     "metadata": {
      "needs_background": "light"
     },
     "output_type": "display_data"
    }
   ],
   "source": [
    "fig, ax = plt.subplots(1,2, figsize=(15,5))\n",
    "ax_2020 = sns.histplot(data=car_data_2020[\"speed\"], bins = 20, stat=\"percent\", ax=ax[0])\n",
    "ax_2020.set_title(\"Distribution of speed 2020\")\n",
    "ax_2020.set(ylim=(0,30))\n",
    "\n",
    "ax_2019 = sns.histplot(data=car_data_2019[\"speed\"], bins = 20, stat=\"percent\", ax=ax[1], color = \"green\")\n",
    "ax_2019.set_title(\"Distribution of speed 2019\")\n",
    "ax_2019.set(ylim=(0,30))\n",
    "fig.savefig(\"C://Users/Margaret/Desktop/Datasets/TII/SpeedDistribution.png\")"
   ]
  },
  {
   "cell_type": "markdown",
   "id": "0100793c",
   "metadata": {},
   "source": [
    "# Section 8 - Analysis of single site speed for cars\n",
    "\n",
    "* Pick the busiest site for 2020 and 2019\n",
    "* Extract all car data\n",
    "* Analyse timeseries of speed over the course of the day\n",
    "* Plot timeseres for 2020 and 2019"
   ]
  },
  {
   "cell_type": "code",
   "execution_count": 56,
   "id": "1ff03d01",
   "metadata": {},
   "outputs": [
    {
     "data": {
      "text/plain": [
       "1502"
      ]
     },
     "execution_count": 56,
     "metadata": {},
     "output_type": "execute_result"
    }
   ],
   "source": [
    "busiest_site_2020 = common_sites_2020_2019.sort_values(\"count_2020\", ascending = False).head(1).index[0]\n",
    "busiest_site_2020"
   ]
  },
  {
   "cell_type": "code",
   "execution_count": 57,
   "id": "499055d5",
   "metadata": {},
   "outputs": [
    {
     "data": {
      "text/plain": [
       "1503"
      ]
     },
     "execution_count": 57,
     "metadata": {},
     "output_type": "execute_result"
    }
   ],
   "source": [
    "busiest_site_2019 = common_sites_2020_2019.sort_values(\"count_2019\", ascending = False).head(1).index[0]\n",
    "busiest_site_2019"
   ]
  },
  {
   "cell_type": "code",
   "execution_count": 58,
   "id": "503878e1",
   "metadata": {},
   "outputs": [
    {
     "data": {
      "text/html": [
       "<div>\n",
       "<style scoped>\n",
       "    .dataframe tbody tr th:only-of-type {\n",
       "        vertical-align: middle;\n",
       "    }\n",
       "\n",
       "    .dataframe tbody tr th {\n",
       "        vertical-align: top;\n",
       "    }\n",
       "\n",
       "    .dataframe thead th {\n",
       "        text-align: right;\n",
       "    }\n",
       "</style>\n",
       "<table border=\"1\" class=\"dataframe\">\n",
       "  <thead>\n",
       "    <tr style=\"text-align: right;\">\n",
       "      <th></th>\n",
       "      <th>cosit</th>\n",
       "      <th>minuteofday</th>\n",
       "      <th>classname</th>\n",
       "      <th>speed</th>\n",
       "    </tr>\n",
       "  </thead>\n",
       "  <tbody>\n",
       "    <tr>\n",
       "      <th>92894</th>\n",
       "      <td>1502</td>\n",
       "      <td>0</td>\n",
       "      <td>CAR</td>\n",
       "      <td>95.0</td>\n",
       "    </tr>\n",
       "    <tr>\n",
       "      <th>92897</th>\n",
       "      <td>1502</td>\n",
       "      <td>0</td>\n",
       "      <td>CAR</td>\n",
       "      <td>120.0</td>\n",
       "    </tr>\n",
       "    <tr>\n",
       "      <th>92898</th>\n",
       "      <td>1502</td>\n",
       "      <td>0</td>\n",
       "      <td>CAR</td>\n",
       "      <td>96.0</td>\n",
       "    </tr>\n",
       "    <tr>\n",
       "      <th>92899</th>\n",
       "      <td>1502</td>\n",
       "      <td>0</td>\n",
       "      <td>CAR</td>\n",
       "      <td>92.0</td>\n",
       "    </tr>\n",
       "    <tr>\n",
       "      <th>92903</th>\n",
       "      <td>1502</td>\n",
       "      <td>1</td>\n",
       "      <td>CAR</td>\n",
       "      <td>96.0</td>\n",
       "    </tr>\n",
       "  </tbody>\n",
       "</table>\n",
       "</div>"
      ],
      "text/plain": [
       "       cosit  minuteofday classname  speed\n",
       "92894   1502            0       CAR   95.0\n",
       "92897   1502            0       CAR  120.0\n",
       "92898   1502            0       CAR   96.0\n",
       "92899   1502            0       CAR   92.0\n",
       "92903   1502            1       CAR   96.0"
      ]
     },
     "execution_count": 58,
     "metadata": {},
     "output_type": "execute_result"
    }
   ],
   "source": [
    "car_data_busiest_2020 = data_2020_pvr_filter.loc[(data_2020_pvr_filter[\"cosit\"]==busiest_site_2020) & (data_2020_pvr_filter[\"classname\"]==\"CAR\")]\n",
    "car_data_busiest_2020 = car_data_busiest_2020.sort_values(\"minuteofday\", ascending=True)\n",
    "car_data_busiest_2020.head()"
   ]
  },
  {
   "cell_type": "code",
   "execution_count": 59,
   "id": "9ef949aa",
   "metadata": {},
   "outputs": [
    {
     "data": {
      "text/html": [
       "<div>\n",
       "<style scoped>\n",
       "    .dataframe tbody tr th:only-of-type {\n",
       "        vertical-align: middle;\n",
       "    }\n",
       "\n",
       "    .dataframe tbody tr th {\n",
       "        vertical-align: top;\n",
       "    }\n",
       "\n",
       "    .dataframe thead th {\n",
       "        text-align: right;\n",
       "    }\n",
       "</style>\n",
       "<table border=\"1\" class=\"dataframe\">\n",
       "  <thead>\n",
       "    <tr style=\"text-align: right;\">\n",
       "      <th></th>\n",
       "      <th>cosit</th>\n",
       "      <th>minuteofday</th>\n",
       "      <th>classname</th>\n",
       "      <th>speed</th>\n",
       "    </tr>\n",
       "  </thead>\n",
       "  <tbody>\n",
       "    <tr>\n",
       "      <th>677699</th>\n",
       "      <td>1503</td>\n",
       "      <td>0</td>\n",
       "      <td>CAR</td>\n",
       "      <td>93.0</td>\n",
       "    </tr>\n",
       "    <tr>\n",
       "      <th>677716</th>\n",
       "      <td>1503</td>\n",
       "      <td>0</td>\n",
       "      <td>CAR</td>\n",
       "      <td>93.0</td>\n",
       "    </tr>\n",
       "    <tr>\n",
       "      <th>677717</th>\n",
       "      <td>1503</td>\n",
       "      <td>0</td>\n",
       "      <td>CAR</td>\n",
       "      <td>98.0</td>\n",
       "    </tr>\n",
       "    <tr>\n",
       "      <th>677718</th>\n",
       "      <td>1503</td>\n",
       "      <td>0</td>\n",
       "      <td>CAR</td>\n",
       "      <td>130.0</td>\n",
       "    </tr>\n",
       "    <tr>\n",
       "      <th>677719</th>\n",
       "      <td>1503</td>\n",
       "      <td>0</td>\n",
       "      <td>CAR</td>\n",
       "      <td>115.0</td>\n",
       "    </tr>\n",
       "  </tbody>\n",
       "</table>\n",
       "</div>"
      ],
      "text/plain": [
       "        cosit  minuteofday classname  speed\n",
       "677699   1503            0       CAR   93.0\n",
       "677716   1503            0       CAR   93.0\n",
       "677717   1503            0       CAR   98.0\n",
       "677718   1503            0       CAR  130.0\n",
       "677719   1503            0       CAR  115.0"
      ]
     },
     "execution_count": 59,
     "metadata": {},
     "output_type": "execute_result"
    }
   ],
   "source": [
    "car_data_busiest_2019 = data_2019_pvr_filter.loc[(data_2019_pvr_filter[\"cosit\"]==busiest_site_2019) & (data_2019_pvr_filter[\"classname\"]==\"CAR\")]\n",
    "car_data_busiest_2019 = car_data_busiest_2019.sort_values(\"minuteofday\", ascending = True)\n",
    "car_data_busiest_2019.head()"
   ]
  },
  {
   "cell_type": "code",
   "execution_count": 60,
   "id": "6fed5ace",
   "metadata": {},
   "outputs": [],
   "source": [
    "avg_car_speed_2020 = car_data_busiest_2020.groupby(\"minuteofday\")[[\"speed\"]].mean()"
   ]
  },
  {
   "cell_type": "code",
   "execution_count": 61,
   "id": "f0a7029b",
   "metadata": {},
   "outputs": [],
   "source": [
    "avg_car_speed_2019 = car_data_busiest_2019.groupby(\"minuteofday\")[[\"speed\"]].mean()"
   ]
  },
  {
   "cell_type": "code",
   "execution_count": 62,
   "id": "2d9f2f0a",
   "metadata": {},
   "outputs": [
    {
     "data": {
      "image/png": "[encoded data removed]",
      "text/plain": [
       "<Figure size 1080x360 with 2 Axes>"
      ]
     },
     "metadata": {
      "needs_background": "light"
     },
     "output_type": "display_data"
    }
   ],
   "source": [
    "fig, ax = plt.subplots(figsize = (15,5))\n",
    "ax.plot(avg_car_speed_2020.index, avg_car_speed_2020[\"speed\"], color = \"blue\")\n",
    "ax.tick_params(\"y\", colors = \"blue\")\n",
    "ax.set_title(\"Busiest sites - Average speed at each minute for 24 hours\")\n",
    "ax.set_xlabel(\"Minutes since midnight\")\n",
    "ax.set_ylabel (\"Average speed km/h\")\n",
    "ax2 = ax.twinx()\n",
    "ax2.plot(avg_car_speed_2019.index, avg_car_speed_2019[\"speed\"], color = \"red\")\n",
    "ax2.tick_params(\"y\", colors = \"red\")\n",
    "ax2.set_ylabel(\"Average speed km/h\")\n",
    "fig.savefig(\"C://Users/Margaret/Desktop/Datasets/TII/Avg_speed_timeseries\")"
   ]
  },
  {
   "cell_type": "code",
   "execution_count": null,
   "id": "f4baac80",
   "metadata": {},
   "outputs": [],
   "source": []
  }
 ],
 "metadata": {
  "kernelspec": {
   "display_name": "Python 3 (ipykernel)",
   "language": "python",
   "name": "python3"
  },
  "language_info": {
   "codemirror_mode": {
    "name": "ipython",
    "version": 3
   },
   "file_extension": ".py",
   "mimetype": "text/x-python",
   "name": "python",
   "nbconvert_exporter": "python",
   "pygments_lexer": "ipython3",
   "version": "3.9.7"
  }
 },
 "nbformat": 4,
 "nbformat_minor": 5
}
